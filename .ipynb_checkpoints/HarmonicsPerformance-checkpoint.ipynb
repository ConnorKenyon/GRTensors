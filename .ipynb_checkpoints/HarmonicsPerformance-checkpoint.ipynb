{
 "cells": [
  {
   "cell_type": "code",
   "execution_count": 15,
   "metadata": {
    "Collapsed": "false"
   },
   "outputs": [],
   "source": [
    "import numpy as np\n",
    "import sympy\n",
    "import GRTensors as grt\n",
    "from sympy.utilities.autowrap import autowrap\n",
    "\n",
    "theta, phi = sympy.symbols(r\"theta phi\",real=True)\n",
    "l,l_ = sympy.symbols('l l^`',real=True,positive=True,integer=True)\n",
    "m,m_ = sympy.symbols('m m^`',real=True,integer=True)\n",
    "\n",
    "ylm = sympy.functions.special.spherical_harmonics.Ynm(l,m,theta,phi).expand(func=True)\n",
    "ylm_star = sympy.conjugate(ylm)\n",
    "\n",
    "I0 = ylm*ylm_star*sympy.sin(theta).expand(func=True)\n",
    "I1 = sympy.integrate(I0,(theta,0,sympy.pi))\n",
    "I2 = sympy.integrate(I1,(phi,0,2*sympy.pi))\n",
    "II = sympy.lambdify([l,m,theta,phi],I2,'sympy')\n",
    "\n",
    "# f = sympy.lambdify([l,m, theta, phi],ylm,'sympy')\n",
    "# for ll in range(4):\n",
    "#     for mm in range(-ll,ll+1):\n",
    "#         print(ll,mm)\n",
    "#         sympy.pprint(f(ll,mm,theta,phi).expand(func=True))"
   ]
  },
  {
   "cell_type": "code",
   "execution_count": 16,
   "metadata": {
    "Collapsed": "false"
   },
   "outputs": [
    {
     "data": {
      "text/latex": [
       "$\\displaystyle 1.0$"
      ],
      "text/plain": [
       "1.00000000000000"
      ]
     },
     "execution_count": 16,
     "metadata": {},
     "output_type": "execute_result"
    }
   ],
   "source": [
    "II(2,2,theta,phi).simplify()"
   ]
  },
  {
   "cell_type": "code",
   "execution_count": 3,
   "metadata": {
    "Collapsed": "false"
   },
   "outputs": [],
   "source": [
    "yl_m_star = sympy.conjugate(sympy.functions.special.spherical_harmonics.Ynm(l_,m_,theta,phi).expand(func=True))\n",
    "\n",
    "J0 = ylm*yl_m_star*sympy.sin(theta).expand(func=True)\n",
    "J1 = sympy.integrate(J0,(theta,0,sympy.pi))\n",
    "J2 = sympy.integrate(J1,(phi,0,2*sympy.pi))\n",
    "JJ = sympy.lambdify([l,l_,m,m_,theta,phi],J2,'sympy')"
   ]
  },
  {
   "cell_type": "code",
   "execution_count": null,
   "metadata": {
    "Collapsed": "false"
   },
   "outputs": [],
   "source": [
    "#JJ(l,l',m,m',theta,phi).simplify()\n",
    "JJ(2,2,0,0,theta,phi).simplify()"
   ]
  },
  {
   "cell_type": "code",
   "execution_count": null,
   "metadata": {
    "Collapsed": "false"
   },
   "outputs": [],
   "source": [
    "JJ(2,1,0,theta,phi).simplify()"
   ]
  },
  {
   "cell_type": "code",
   "execution_count": null,
   "metadata": {
    "Collapsed": "false"
   },
   "outputs": [],
   "source": []
  }
 ],
 "metadata": {
  "kernelspec": {
   "display_name": "Python 3",
   "language": "python",
   "name": "python3"
  },
  "language_info": {
   "codemirror_mode": {
    "name": "ipython",
    "version": 3
   },
   "file_extension": ".py",
   "mimetype": "text/x-python",
   "name": "python",
   "nbconvert_exporter": "python",
   "pygments_lexer": "ipython3",
   "version": "3.6.9"
  }
 },
 "nbformat": 4,
 "nbformat_minor": 4
}
