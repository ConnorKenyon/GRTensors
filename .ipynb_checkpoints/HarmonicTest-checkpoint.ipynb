{
 "cells": [
  {
   "cell_type": "code",
   "execution_count": null,
   "metadata": {
    "Collapsed": "false"
   },
   "outputs": [],
   "source": [
    "import numpy as np\n",
    "import sympy\n",
    "import GRTensors as grt\n",
    "\n",
    "theta, phi = sympy.symbols(r\"theta phi\",real=True,positive=True)\n",
    "l,l_ = sympy.symbols('l l^`',real=True,positive=True,integer=True)\n",
    "m,m_ = sympy.symbols('m m^`',real=True,integer=True)\n",
    "\n",
    "ylm = sympy.functions.special.spherical_harmonics.Ynm(l,m,theta,phi).expand(func=True)\n",
    "ylm_eval = ylm.subs({l:2,m:1})*sympy.conjugate(ylm.subs({l:2,m:1}))\n",
    "I1 = sympy.integrate(ylm_eval,(phi,0,2*np.pi))\n",
    "I2 = sympy.integrate(I1,(theta,0,np.pi))\n",
    "# ylm = grt.ScalarSphericalHarmonics(theta, phi)\n",
    "# sympy.integrate(sympy.integrate(ylm*sympy.conjugate(ylm),(theta,0,sympy.pi)),(phi,0,2*sympy.pi)).subs({l:2,m:2})"
   ]
  },
  {
   "cell_type": "code",
   "execution_count": null,
   "metadata": {
    "Collapsed": "false"
   },
   "outputs": [],
   "source": []
  }
 ],
 "metadata": {
  "kernelspec": {
   "display_name": "Python 3",
   "language": "python",
   "name": "python3"
  },
  "language_info": {
   "codemirror_mode": {
    "name": "ipython",
    "version": 3
   },
   "file_extension": ".py",
   "mimetype": "text/x-python",
   "name": "python",
   "nbconvert_exporter": "python",
   "pygments_lexer": "ipython3",
   "version": "3.6.9"
  }
 },
 "nbformat": 4,
 "nbformat_minor": 4
}
