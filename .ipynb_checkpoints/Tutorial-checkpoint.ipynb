{
 "cells": [
  {
   "cell_type": "markdown",
   "metadata": {
    "Collapsed": "false"
   },
   "source": [
    "# GRTensors Tutorial\n",
    "\n",
    "GRTensors is a python module designed to provide a fully featured and user friendly interface to handle tensors in python. The goal is to provide wrappers and objects that behave computationally in a way that is faithful to the simplicity of tensors -- providing an experience that conveniently condenses complex equations into shorter expressions that can be manipulated easily.\n",
    "\n",
    "## Dependencies\n",
    "\n",
    "The dependencies of GRTensors are attempted to be kept as minimal as possible, while still being able to perform effective calculations.\n",
    "Currently the dependencies are:\n",
    "\n",
    "- sympy -- handling for symbolic math\n",
    "- numpy -- certain array/matrix manipulation and functionality features\n",
    "- copy -- Creating copies of objects to ensure no pointer issues\n",
    "- itertools -- Iterating over tensor values for more careful calculations"
   ]
  },
  {
   "cell_type": "code",
   "execution_count": 1,
   "metadata": {
    "Collapsed": "false"
   },
   "outputs": [],
   "source": [
    "import GRTensors as grt\n",
    "import sympy"
   ]
  },
  {
   "cell_type": "markdown",
   "metadata": {
    "Collapsed": "false"
   },
   "source": [
    "## Differences between Tensors and Matrices\n",
    "\n",
    "Visually, tensors appear similar to an N-Dimensional matrix where N is the rank of the tensor.\n",
    "In functionality, the significant differences between tensors and matrices are:\n",
    "\n",
    "- They (optionally) require the following quantities to be defined:\n",
    "    - Indices\n",
    "    - Coordinates\n",
    "    - Values \n",
    "- They do not always obey standard differentiation.\n",
    "- Tensors are typically associated with particular spacetime Metrics.\n",
    "\n",
    "### Spacetime Metric\n",
    "A spacetime metric is a rank 2 tensor that represents the curavture of spacetime\n",
    "\n",
    "This tutorial will walk through using GRTensors to do the following:\n",
    "1. Create a Tensor Index\n",
    "2. Create spacetime coordinates\n",
    "3. Assign a tensor to a variable\n",
    "4. Create a metric tensor\n",
    "5. Demonstrate tensor algebra operations\n",
    "6. Demonstrate tensor calculus operations\n",
    "7. Apply GRTensors to make calculations of some commonly computed tensors."
   ]
  },
  {
   "cell_type": "markdown",
   "metadata": {
    "Collapsed": "false"
   },
   "source": [
    "## Creating Tensor Indices"
   ]
  },
  {
   "cell_type": "code",
   "execution_count": 2,
   "metadata": {
    "Collapsed": "false"
   },
   "outputs": [],
   "source": [
    "alpha, beta = grt.make_index(r\"\\alpha \\beta\")\n",
    "mu, nu = grt.make_index(r\"\\mu,\\nu\")\n",
    "i,j,k = grt.make_index(\"i, j, k\")"
   ]
  },
  {
   "cell_type": "markdown",
   "metadata": {
    "Collapsed": "false"
   },
   "source": [
    "## Creating Spacetime Coordinate Variables\n",
    "\n",
    "Currently there is no major difference between coordinates and sympy symbols, so as of the current version these are interchangeable with sympy.symbols()"
   ]
  },
  {
   "cell_type": "code",
   "execution_count": 3,
   "metadata": {
    "Collapsed": "false"
   },
   "outputs": [],
   "source": [
    "# Time-Independent Coordinates\n",
    "t, x, y, z = grt.make_coords(\"t x y z\")\n",
    "# t, x, y, z = sympy.symbols(\"t x y z\")\n",
    "\n",
    "# Time-Dependent Coordinates\n",
    "t, r, theta, phi = grt.make_coords(r\"r \\theta \\phi\",dependent_coord=\"t\")\n",
    "# t, r, theta, phi = sympy.symbols(r\"t r \\theta \\phi\")\n",
    "# r, theta, phi = [sympy.Function(coord)(t) for coord in [r,theta,phi]]"
   ]
  },
  {
   "cell_type": "markdown",
   "metadata": {
    "Collapsed": "false"
   },
   "source": [
    "## Creating a Tensor"
   ]
  },
  {
   "cell_type": "code",
   "execution_count": 4,
   "metadata": {
    "Collapsed": "false"
   },
   "outputs": [
    {
     "data": {
      "text/latex": [
       "$\\displaystyle \\left[\\begin{matrix}r^{2} & \\frac{2}{r}\\\\2 r & \\sin^{2}{\\left(\\theta \\right)}\\end{matrix}\\right]$"
      ],
      "text/plain": [
       "[[r**2, 2/r], [2*r, sin(\\theta)**2]]"
      ]
     },
     "execution_count": 4,
     "metadata": {},
     "output_type": "execute_result"
    }
   ],
   "source": [
    "t,r,theta,phi = grt.make_coords(r\"t r \\theta \\phi\")\n",
    "\n",
    "alpha, beta = grt.make_index(r\"\\alpha \\beta\")\n",
    "F_vals = [[r*r, 2/r],[2*r, sympy.sin(theta)**2]]\n",
    "\n",
    "F = grt.Tensor([alpha,-beta],F_vals)\n",
    "F.vals"
   ]
  },
  {
   "cell_type": "markdown",
   "metadata": {
    "Collapsed": "false"
   },
   "source": [
    "### Accessing Tensor Information\n",
    "\n",
    "The attributes of the Tensor class are:\n",
    "- indices\n",
    "- rank\n",
    "- vals\n",
    "\n",
    "The functions of the Tensor class are:\n",
    "- copy\n",
    "- change_index\n",
    "\n",
    "In addition to these functions, the add and subtract operators (+,-) have been overloaded\n",
    "to add the tensor values for tensors with matching indices. This addition process also\n",
    "includes handling for addition of tensors with the same indices in different order."
   ]
  },
  {
   "cell_type": "markdown",
   "metadata": {
    "Collapsed": "false"
   },
   "source": [
    "## Creating Metric Tensors"
   ]
  },
  {
   "cell_type": "code",
   "execution_count": 5,
   "metadata": {
    "Collapsed": "false"
   },
   "outputs": [],
   "source": [
    "# Initialize Indices\n",
    "mu, nu = grt.make_index(r\"\\mu \\nu\")\n",
    "\n",
    "# Initialize Coordinates\n",
    "t, r, theta, phi = grt.make_coords(r\"t r \\theta \\phi\")\n",
    "g = grt.Metric([theta, phi],[-mu,-nu],[[r*r,0],[0,r*r*sympy.sin(theta)**2]])\n",
    "lowered_vals = g.vals_lowered()\n",
    "raised_vals = g.vals_raised()"
   ]
  },
  {
   "cell_type": "markdown",
   "metadata": {
    "Collapsed": "false"
   },
   "source": [
    "### Accessing Metric Tensor Information\n",
    "\n",
    "The Metric class inherits from Tensor, which means that all functions and attributes of Tensors also apply to Metrics. In addition to those properties, the specific functions for Metrics include:\n",
    "\n",
    "Attributes:\n",
    "- coords\n",
    "- indices\n",
    "- dims"
   ]
  },
  {
   "cell_type": "markdown",
   "metadata": {
    "Collapsed": "false"
   },
   "source": [
    "## Accomplishing Something Interesting!"
   ]
  },
  {
   "cell_type": "code",
   "execution_count": 6,
   "metadata": {
    "Collapsed": "false"
   },
   "outputs": [
    {
     "data": {
      "text/latex": [
       "$\\displaystyle \\left[\\begin{matrix}\\left[\\begin{matrix}0 & 0\\\\0 & - 1.0 \\sin{\\left(\\theta \\right)} \\cos{\\left(\\theta \\right)}\\end{matrix}\\right] & \\left[\\begin{matrix}0 & \\frac{1.0 \\cos{\\left(\\theta \\right)}}{\\sin{\\left(\\theta \\right)}}\\\\\\frac{1.0 \\cos{\\left(\\theta \\right)}}{\\sin{\\left(\\theta \\right)}} & 0\\end{matrix}\\right]\\end{matrix}\\right]$"
      ],
      "text/plain": [
       "[[[0, 0], [0, -1.0*sin(\\theta)*cos(\\theta)]], [[0, 1.0*cos(\\theta)/sin(\\theta)], [1.0*cos(\\theta)/sin(\\theta), 0]]]"
      ]
     },
     "execution_count": 6,
     "metadata": {},
     "output_type": "execute_result"
    }
   ],
   "source": [
    "r, theta, phi = sympy.symbols(r\"r \\theta \\phi\")\n",
    "mu, nu, alpha, lam = grt.make_index(r\"\\mu \\nu \\alpha \\lambda\")\n",
    "\n",
    "\n",
    "twosphere_lowered = grt.Metric([theta, phi], [-mu,-nu],[[r**2,0],[0,(r*sympy.sin(theta))**2]])\n",
    "twosphere_raised = grt.Metric([theta, phi],[alpha, lam],twosphere_lowered.vals_raised())\n",
    "\n",
    "g1 = grt.diff(twosphere_lowered.reset_indices([-mu,-lam]),[theta, phi], -nu)\n",
    "g2 = grt.diff(twosphere_lowered.reset_indices([-nu,-lam]),[theta, phi], -mu)\n",
    "g3 = grt.diff(twosphere_lowered.reset_indices([-nu,-mu]),[theta, phi], -lam)\n",
    "\n",
    "ch = 0.5*grt.tensor_contract(twosphere_raised*(g1 + g2 - g3),lam,-lam)\n",
    "\n",
    "ch.vals"
   ]
  },
  {
   "cell_type": "code",
   "execution_count": 7,
   "metadata": {
    "Collapsed": "false"
   },
   "outputs": [
    {
     "data": {
      "text/latex": [
       "$\\displaystyle \\left[\\begin{matrix}\\left[\\begin{matrix}0 & 0\\\\0 & - 1.0 \\sin{\\left(\\theta \\right)} \\cos{\\left(\\theta \\right)}\\end{matrix}\\right] & \\left[\\begin{matrix}0 & \\frac{1.0 \\cos{\\left(\\theta \\right)}}{\\sin{\\left(\\theta \\right)}}\\\\\\frac{1.0 \\cos{\\left(\\theta \\right)}}{\\sin{\\left(\\theta \\right)}} & 0\\end{matrix}\\right]\\end{matrix}\\right]$"
      ],
      "text/plain": [
       "[[[0, 0], [0, -1.0*sin(\\theta)*cos(\\theta)]], [[0, 1.0*cos(\\theta)/sin(\\theta)], [1.0*cos(\\theta)/sin(\\theta), 0]]]"
      ]
     },
     "execution_count": 7,
     "metadata": {},
     "output_type": "execute_result"
    }
   ],
   "source": [
    "ch_2 = grt.christoffel_from_metric(twosphere_lowered)\n",
    "ch_2.vals"
   ]
  },
  {
   "cell_type": "markdown",
   "metadata": {
    "Collapsed": "false"
   },
   "source": [
    "What have we accomplished? We've computed the christoffel symbols of the twosphere metric, and using that metric we've taken the covariant derivative of an arbitrary rank 1 tensor.\n",
    "\n",
    "These computations are entirely unnecessary and are able to be handled purely by GRTensors, however it is a good exercise to understand what these are computing.\n",
    "\n",
    "Mathematically, what is being computed are the following equations:\n",
    "\n",
    "$$\\Gamma^{\\alpha}_{\\mu \\nu} = \n",
    "\\frac{1}{2}g^{\\alpha \\beta}\\left(\n",
    "\\frac{\\partial g_{\\beta \\nu}}{\\partial x^{\\mu}} +\n",
    "\\frac{\\partial g_{\\beta \\mu}}{\\partial x^{\\nu}} -\n",
    "\\frac{\\partial g_{\\mu \\nu}}{\\partial x^{\\beta}}\n",
    "\\right) = \n",
    "\\frac{1}{2}g^{\\alpha \\beta}\\left(\n",
    "        g_{\\beta \\nu,\\mu} +\n",
    "        g_{\\beta \\mu,\\nu} -\n",
    "        g_{\\mu \\nu,\\beta} \\right)$$\n",
    "        \n",
    "This tensor, $\\Gamma$, is known as the metric connection, or the christoffel symbol.\n",
    "Its purpose is to represent the curvature of the spacetime of the given metric. \n",
    "This curvature is relevant because derivatives are no longer sufficient, and require an\n",
    "extra term involving the christoffel symbol.\n",
    "\n",
    "The resulting tensor derivative is known as a __Covariant Derivative__ and is shown below.\n",
    "\n",
    "$$A_{\\alpha ; \\beta} = \n",
    "    \\frac{\\partial A_{\\alpha}}{\\partial x^{\\beta}} - \n",
    "    \\Gamma^{k}_{\\alpha \\beta} A_{k}\n",
    "$$\n",
    "\n",
    "$$A^{\\alpha}_{~;\\beta} = \n",
    "    \\frac{\\partial A_{\\alpha}}{\\partial x^{\\beta}} +\n",
    "    \\Gamma^{\\alpha}_{\\beta k} A^{k}\n",
    "$$\n",
    "\n",
    "This can be extended as an operation to a tensor with any number of indices, however an additional\n",
    "christoffel symbol term must be added for each index, being added or subtacted in accordance with the formulas above depending on whether the index is covariant or contravariant.\n",
    "\n",
    "$$A^{a}_{b;c} =\n",
    "    A^{a}_{b,c} +\n",
    "    \\Gamma^{a}_{cd}A^{d}_{b} -\n",
    "    \\Gamma^{d}_{cb}A^{a}_{d}\n",
    "$$\n",
    "\n",
    "A more complete list of tensor index examples for covariant derivative operations can be found [in the Wikipedia entry](https://en.wikipedia.org/wiki/Covariant_derivative#Examples)"
   ]
  },
  {
   "cell_type": "markdown",
   "metadata": {
    "Collapsed": "false"
   },
   "source": [
    "## Confirming a result"
   ]
  },
  {
   "cell_type": "code",
   "execution_count": 11,
   "metadata": {
    "Collapsed": "false"
   },
   "outputs": [
    {
     "data": {
      "text/latex": [
       "$\\displaystyle \\left[\\begin{matrix}\\left[\\begin{matrix}0 & 0 & 0 & 0\\\\0 & 0 & 0 & 0\\\\0 & 0 & 0 & 0\\\\0 & 0 & 0 & 0\\end{matrix}\\right] & \\left[\\begin{matrix}0 & 0 & 0 & 0\\\\0 & 0 & 0 & 0\\\\0 & 0 & - 1.0 r & 0\\\\0 & 0 & 0 & - 1.0 r \\sin^{2}{\\left(\\theta \\right)}\\end{matrix}\\right] & \\left[\\begin{matrix}0 & 0 & 0 & 0\\\\0 & 0 & \\frac{1.0}{r} & 0\\\\0 & \\frac{1.0}{r} & 0 & 0\\\\0 & 0 & 0 & - 1.0 \\sin{\\left(\\theta \\right)} \\cos{\\left(\\theta \\right)}\\end{matrix}\\right] & \\left[\\begin{matrix}0 & 0 & 0 & 0\\\\0 & 0 & 0 & \\frac{1.0}{r}\\\\0 & 0 & 0 & \\frac{1.0 \\cos{\\left(\\theta \\right)}}{\\sin{\\left(\\theta \\right)}}\\\\0 & \\frac{1.0}{r} & \\frac{1.0 \\cos{\\left(\\theta \\right)}}{\\sin{\\left(\\theta \\right)}} & 0\\end{matrix}\\right]\\end{matrix}\\right]$"
      ],
      "text/plain": [
       "[[[0, 0, 0, 0], [0, 0, 0, 0], [0, 0, 0, 0], [0, 0, 0, 0]], [[0, 0, 0, 0], [0, 0, 0, 0], [0, 0, -1.0*r, 0], [0, 0, 0, -1.0*r*sin(\\theta)**2]], [[0, 0, 0, 0], [0, 0, 1.0/r, 0], [0, 1.0/r, 0, 0], [0, 0, 0, -1.0*sin(\\theta)*cos(\\theta)]], [[0, 0, 0, 0], [0, 0, 0, 1.0/r], [0, 0, 0, 1.0*cos(\\theta)/sin(\\theta)], [0, 1.0/r, 1.0*cos(\\theta)/sin(\\theta), 0]]]"
      ]
     },
     "execution_count": 11,
     "metadata": {},
     "output_type": "execute_result"
    }
   ],
   "source": [
    "t,r,theta,phi = grt.make_coords(r\"t r \\theta \\phi\")\n",
    "alpha, sigma, mu, nu, lam = grt.make_index(r\"\\alpha \\sigma \\mu \\nu \\lam\")\n",
    "lam = grt.make_index(r\"\\lambda\")\n",
    "m = sympy.symbols(\"m\")\n",
    "g_sch = grt.Metric([t,r,theta,phi],[-mu,-nu],[[(1-2*m/r), 0, 0, 0],[0,1/(1-2*m/r),0,0],[0,0,r**2,0],[0,0,0,r*r*sympy.sin(theta)**2]])\n",
    "g_sch = grt.Metric([t,r,theta,phi],[-mu,-nu],[[1, 0, 0, 0],[0,1,0,0],[0,0,r**2,0],[0,0,0,r*r*sympy.sin(theta)**2]])\n",
    "ch = grt.christoffel_from_metric(g_sch)\n",
    "\n",
    "ch.vals"
   ]
  },
  {
   "cell_type": "code",
   "execution_count": 13,
   "metadata": {
    "Collapsed": "false"
   },
   "outputs": [
    {
     "data": {
      "text/latex": [
       "$\\displaystyle \\left[\\begin{matrix}\\left[\\begin{matrix}0 & 0 & 0 & 0\\\\0 & 0 & 0 & 0\\\\0 & 0 & 0 & 0\\\\0 & 0 & 0 & 0\\end{matrix}\\right] & \\left[\\begin{matrix}0 & 0 & 0 & 0\\\\0 & 0 & 0 & 0\\\\0 & 0 & 0 & 0\\\\0 & 0 & 0 & 0\\end{matrix}\\right] & \\left[\\begin{matrix}0 & 0 & 0 & 0\\\\0 & 0 & 0 & 0\\\\0 & 0 & 0 & 0\\\\0 & 0 & 0 & 0\\end{matrix}\\right] & \\left[\\begin{matrix}0 & 0 & 0 & 0\\\\0 & 0 & 0 & 0\\\\0 & 0 & 0 & 0\\\\0 & 0 & 0 & 0\\end{matrix}\\right]\\\\\\left[\\begin{matrix}0 & 0 & 0 & 0\\\\0 & 0 & 0 & 0\\\\0 & 0 & 0 & 0\\\\0 & 0 & 0 & 0\\end{matrix}\\right] & \\left[\\begin{matrix}0 & 0 & 0 & 0\\\\0 & 0 & 0 & 0\\\\0 & 0 & 0 & 0\\\\0 & 0 & 0 & 0\\end{matrix}\\right] & \\left[\\begin{matrix}0 & 0 & 0 & 0\\\\0 & 0 & 0 & 0\\\\0 & 0 & 0 & 0\\\\0 & 0 & 0 & 0\\end{matrix}\\right] & \\left[\\begin{matrix}0 & 0 & 0 & 0\\\\0 & 0 & 0 & 0\\\\0 & 0 & 0 & 0\\\\0 & 0 & 0 & 0\\end{matrix}\\right]\\\\\\left[\\begin{matrix}0 & 0 & 0 & 0\\\\0 & 0 & 0 & 0\\\\0 & 0 & 0 & 0\\\\0 & 0 & 0 & 0\\end{matrix}\\right] & \\left[\\begin{matrix}0 & 0 & 0 & 0\\\\0 & 0 & 0 & 0\\\\0 & 0 & 0 & 0\\\\0 & 0 & 0 & 0\\end{matrix}\\right] & \\left[\\begin{matrix}0 & 0 & 0 & 0\\\\0 & 0 & 0 & 0\\\\0 & 0 & 0 & 0\\\\0 & 0 & 0 & 0\\end{matrix}\\right] & \\left[\\begin{matrix}0 & 0 & 0 & 0\\\\0 & 0 & 0 & 0\\\\0 & 0 & 0 & 0\\\\0 & 0 & 0 & 0\\end{matrix}\\right]\\\\\\left[\\begin{matrix}0 & 0 & 0 & 0\\\\0 & 0 & 0 & 0\\\\0 & 0 & 0 & 0\\\\0 & 0 & 0 & 0\\end{matrix}\\right] & \\left[\\begin{matrix}0 & 0 & 0 & 0\\\\0 & 0 & 0 & 0\\\\0 & 0 & 0 & 0\\\\0 & 0 & 0 & 0\\end{matrix}\\right] & \\left[\\begin{matrix}0 & 0 & 0 & 0\\\\0 & 0 & 0 & 0\\\\0 & 0 & 0 & 0\\\\0 & 0 & 0 & 0\\end{matrix}\\right] & \\left[\\begin{matrix}0 & 0 & 0 & 0\\\\0 & 0 & 0 & 0\\\\0 & 0 & 0 & 0\\\\0 & 0 & 0 & 0\\end{matrix}\\right]\\end{matrix}\\right]$"
      ],
      "text/plain": [
       "[[[[0, 0, 0, 0], [0, 0, 0, 0], [0, 0, 0, 0], [0, 0, 0, 0]], [[0, 0, 0, 0], [0, 0, 0, 0], [0, 0, 0, 0], [0, 0, 0, 0]], [[0, 0, 0, 0], [0, 0, 0, 0], [0, 0, 0, 0], [0, 0, 0, 0]], [[0, 0, 0, 0], [0, 0, 0, 0], [0, 0, 0, 0], [0, 0, 0, 0]]], [[[0, 0, 0, 0], [0, 0, 0, 0], [0, 0, 0, 0], [0, 0, 0, 0]], [[0, 0, 0, 0], [0, 0, 0, 0], [0, 0, 0, 0], [0, 0, 0, 0]], [[0, 0, 0, 0], [0, 0, 0, 0], [0, 0, 0, 0], [0, 0, 0, 0]], [[0, 0, 0, 0], [0, 0, 0, 0], [0, 0, 0, 0], [0, 0, 0, 0]]], [[[0, 0, 0, 0], [0, 0, 0, 0], [0, 0, 0, 0], [0, 0, 0, 0]], [[0, 0, 0, 0], [0, 0, 0, 0], [0, 0, 0, 0], [0, 0, 0, 0]], [[0, 0, 0, 0], [0, 0, 0, 0], [0, 0, 0, 0], [0, 0, 0, 0]], [[0, 0, 0, 0], [0, 0, 0, 0], [0, 0, 0, 0], [0, 0, 0, 0]]], [[[0, 0, 0, 0], [0, 0, 0, 0], [0, 0, 0, 0], [0, 0, 0, 0]], [[0, 0, 0, 0], [0, 0, 0, 0], [0, 0, 0, 0], [0, 0, 0, 0]], [[0, 0, 0, 0], [0, 0, 0, 0], [0, 0, 0, 0], [0, 0, 0, 0]], [[0, 0, 0, 0], [0, 0, 0, 0], [0, 0, 0, 0], [0, 0, 0, 0]]]]"
      ]
     },
     "execution_count": 13,
     "metadata": {},
     "output_type": "execute_result"
    }
   ],
   "source": [
    "R4 = grt.riemann_tensor_from_metric(g_sch)\n",
    "R4.vals"
   ]
  },
  {
   "cell_type": "code",
   "execution_count": null,
   "metadata": {
    "Collapsed": "false"
   },
   "outputs": [],
   "source": []
  },
  {
   "cell_type": "code",
   "execution_count": null,
   "metadata": {
    "Collapsed": "false"
   },
   "outputs": [],
   "source": []
  },
  {
   "cell_type": "code",
   "execution_count": null,
   "metadata": {
    "Collapsed": "false"
   },
   "outputs": [],
   "source": []
  }
 ],
 "metadata": {
  "kernelspec": {
   "display_name": "Python 3",
   "language": "python",
   "name": "python3"
  },
  "language_info": {
   "codemirror_mode": {
    "name": "ipython",
    "version": 3
   },
   "file_extension": ".py",
   "mimetype": "text/x-python",
   "name": "python",
   "nbconvert_exporter": "python",
   "pygments_lexer": "ipython3",
   "version": "3.6.9"
  }
 },
 "nbformat": 4,
 "nbformat_minor": 4
}
