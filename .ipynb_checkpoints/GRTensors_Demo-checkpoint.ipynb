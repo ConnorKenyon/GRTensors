{
 "cells": [
  {
   "cell_type": "markdown",
   "metadata": {
    "Collapsed": "false"
   },
   "source": [
    "# GRTensors Examples"
   ]
  },
  {
   "cell_type": "code",
   "execution_count": 2,
   "metadata": {
    "Collapsed": "false"
   },
   "outputs": [],
   "source": [
    "import GRTensors as grt\n",
    "import sympy\n",
    "import numpy as np\n",
    "import copy"
   ]
  },
  {
   "cell_type": "markdown",
   "metadata": {
    "Collapsed": "false"
   },
   "source": [
    "## Compute Geodesics"
   ]
  },
  {
   "cell_type": "code",
   "execution_count": 23,
   "metadata": {
    "Collapsed": "false"
   },
   "outputs": [],
   "source": [
    "# Initialize coordinates and symbols\n",
    "t, r, theta, phi = sympy.symbols(r\"t r \\theta \\varphi\")\n",
    "mu = grt.Index('mu')\n",
    "\n",
    "r = sympy.Function(r)(t)\n",
    "\n",
    "# Initialize 2-sphere metric\n",
    "twosphere_vals = sympy.Array([[r**2, 0],[0,r**2*sympy.sin(theta)**2]])\n",
    "polar_twosphere = grt.GRMetric([theta, phi],twosphere_vals,'lower')\n",
    "\n",
    "# Set calculation variables for geodesic equations\n",
    "ch = grt.ChristoffelFromMetric(polar_twosphere)\n",
    "x = grt.GRTensor([mu],sympy.Array([theta, phi]), polar_twosphere)\n",
    "d_dt = sympy.Array([sympy.Derivative(x_mu,t) for x_mu in x.vals])\n",
    "d_dt2 = sympy.Array([sympy.Derivative(x_mu,t) for x_mu in d_dt])\n",
    "\n",
    "# Formulate Geodesic Equations\n",
    "geo_list = []\n",
    "for i in range(2):\n",
    "    ch_tmp = ch.vals[i,:,:]\n",
    "    calc = sympy.tensorcontraction(sympy.tensorproduct(ch_tmp,d_dt[:]),(0,2))\n",
    "    calc = sympy.tensorcontraction(sympy.tensorproduct(calc,d_dt[:]),(0,1))\n",
    "    geo = d_dt2[i] + calc\n",
    "    geo_list.append(geo)\n",
    "\n"
   ]
  },
  {
   "cell_type": "code",
   "execution_count": 24,
   "metadata": {
    "Collapsed": "false"
   },
   "outputs": [
    {
     "data": {
      "text/latex": [
       "$\\displaystyle \\frac{d}{d t} r{\\left(t \\right)}$"
      ],
      "text/plain": [
       "Derivative(r(t), t)"
      ]
     },
     "execution_count": 24,
     "metadata": {},
     "output_type": "execute_result"
    }
   ],
   "source": [
    "# geo_list[0]\n",
    "sympy.diff(r,t)"
   ]
  },
  {
   "cell_type": "code",
   "execution_count": 10,
   "metadata": {
    "Collapsed": "false"
   },
   "outputs": [
    {
     "data": {
      "text/latex": [
       "$\\displaystyle \\frac{d^{2}}{d t^{2}} \\varphi + \\frac{2.0 \\cos{\\left(\\theta \\right)} \\frac{d}{d t} \\theta \\frac{d}{d t} \\varphi}{\\sin{\\left(\\theta \\right)}}$"
      ],
      "text/plain": [
       "Derivative(\\varphi, (t, 2)) + 2.0*cos(\\theta)*Derivative(\\theta, t)*Derivative(\\varphi, t)/sin(\\theta)"
      ]
     },
     "execution_count": 10,
     "metadata": {},
     "output_type": "execute_result"
    }
   ],
   "source": [
    "geo_list[1]"
   ]
  },
  {
   "cell_type": "code",
   "execution_count": null,
   "metadata": {
    "Collapsed": "false"
   },
   "outputs": [],
   "source": []
  },
  {
   "cell_type": "code",
   "execution_count": null,
   "metadata": {
    "Collapsed": "false"
   },
   "outputs": [],
   "source": []
  },
  {
   "cell_type": "code",
   "execution_count": 13,
   "metadata": {
    "Collapsed": "false"
   },
   "outputs": [
    {
     "data": {
      "text/plain": [
       "[a, -b, -c]"
      ]
     },
     "execution_count": 13,
     "metadata": {},
     "output_type": "execute_result"
    }
   ],
   "source": [
    "ch.indices"
   ]
  },
  {
   "cell_type": "code",
   "execution_count": null,
   "metadata": {
    "Collapsed": "false"
   },
   "outputs": [],
   "source": []
  }
 ],
 "metadata": {
  "kernelspec": {
   "display_name": "Python 3",
   "language": "python",
   "name": "python3"
  },
  "language_info": {
   "codemirror_mode": {
    "name": "ipython",
    "version": 3
   },
   "file_extension": ".py",
   "mimetype": "text/x-python",
   "name": "python",
   "nbconvert_exporter": "python",
   "pygments_lexer": "ipython3",
   "version": "3.6.9"
  }
 },
 "nbformat": 4,
 "nbformat_minor": 4
}
