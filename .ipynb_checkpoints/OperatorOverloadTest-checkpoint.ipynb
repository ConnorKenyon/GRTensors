{
 "cells": [
  {
   "cell_type": "code",
   "execution_count": 11,
   "metadata": {
    "Collapsed": "false"
   },
   "outputs": [],
   "source": [
    "import GRTensors as grt\n",
    "import numpy as np\n",
    "import sympy\n",
    "import copy\n",
    "import itertools\n",
    "\n",
    "i,j,k = grt.make_index(\"i j k\")\n",
    "t,x,y,z = sympy.symbols(\"t x y z\")\n",
    "vals1 = [[x**2,2*y],[y,x]]\n",
    "vals2 = [[y**2,2*x],[2*x**2,y**2]]\n",
    "T1 = grt.Tensor([-i,-j],vals1)\n",
    "T2 = grt.Tensor([-i,-j],vals2)"
   ]
  },
  {
   "cell_type": "code",
   "execution_count": 22,
   "metadata": {
    "Collapsed": "false"
   },
   "outputs": [
    {
     "name": "stdout",
     "output_type": "stream",
     "text": [
      "y**2\n",
      "2*x\n",
      "2*x**2\n",
      "y**2\n"
     ]
    }
   ],
   "source": [
    "for idx in itertools.product(*[range(s) for s in T2.vals.shape]):\n",
    "    print(T2.vals[idx[0],idx[1]])"
   ]
  },
  {
   "cell_type": "code",
   "execution_count": 12,
   "metadata": {
    "Collapsed": "false"
   },
   "outputs": [
    {
     "data": {
      "text/latex": [
       "$\\displaystyle \\left( 2, \\  2\\right)$"
      ],
      "text/plain": [
       "(2, 2)"
      ]
     },
     "execution_count": 12,
     "metadata": {},
     "output_type": "execute_result"
    }
   ],
   "source": []
  },
  {
   "cell_type": "code",
   "execution_count": null,
   "metadata": {
    "Collapsed": "false"
   },
   "outputs": [],
   "source": []
  }
 ],
 "metadata": {
  "kernelspec": {
   "display_name": "Python 3",
   "language": "python",
   "name": "python3"
  },
  "language_info": {
   "codemirror_mode": {
    "name": "ipython",
    "version": 3
   },
   "file_extension": ".py",
   "mimetype": "text/x-python",
   "name": "python",
   "nbconvert_exporter": "python",
   "pygments_lexer": "ipython3",
   "version": "3.6.9"
  }
 },
 "nbformat": 4,
 "nbformat_minor": 4
}
