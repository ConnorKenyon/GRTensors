{
 "cells": [
  {
   "cell_type": "markdown",
   "metadata": {
    "Collapsed": "false"
   },
   "source": [
    "# Improving Simultations of Extremal Black Holes\n",
    "\n"
   ]
  },
  {
   "cell_type": "markdown",
   "metadata": {
    "Collapsed": "false"
   },
   "source": [
    "## What is a Black Hole"
   ]
  },
  {
   "cell_type": "markdown",
   "metadata": {
    "Collapsed": "false"
   },
   "source": [
    "- Black holes are spacetime singularities which have largely been a mystery.\n",
    "- Einstein first proposed the existence of black holes in 1914\n",
    "- 100 years later, in 2014, the first gravitational wave was detected, confirming their existence\n",
    "- In 2019, the first visual evidence of a black hole was captured\n"
   ]
  },
  {
   "cell_type": "markdown",
   "metadata": {
    "Collapsed": "false"
   },
   "source": [
    "## Extremal Black Holes"
   ]
  },
  {
   "cell_type": "markdown",
   "metadata": {
    "Collapsed": "false"
   },
   "source": [
    "- Black holes, in theory may be spinning or have electric charge.\n",
    "- An *Extremal* black hole is defined by the spin or charge parameters being near 1 (the largest possible value)\n",
    "- These are important to study because --\n",
    "    "
   ]
  },
  {
   "cell_type": "markdown",
   "metadata": {
    "Collapsed": "false"
   },
   "source": [
    "## Modeling Black Holes"
   ]
  },
  {
   "cell_type": "markdown",
   "metadata": {
    "Collapsed": "false"
   },
   "source": [
    "- Solve the Einstein Field Equations (EFE)\n",
    "\n",
    "$ G_{\\mu \\nu} = R_{\\mu \\nu} + \\frac{1}{2}Rg_{\\mu \\nu}$\n",
    "\n",
    "- Goal is to solve for the spacetime metric $g_{\\mu \\nu}$\n",
    "- Spacetime metric represents the curvature of spacetime, which governs the motion of astrophysical bodies\n",
    "- For extremal black holes, these become too complicated, requiring an additional simplification"
   ]
  },
  {
   "cell_type": "markdown",
   "metadata": {
    "Collapsed": "false"
   },
   "source": [
    "## Modeling Extremal Black Holes"
   ]
  },
  {
   "cell_type": "markdown",
   "metadata": {
    "Collapsed": "false"
   },
   "source": [
    "- In order to handle extremal black holes, perturbation theory is applied\n",
    "- Resulting equations are called the Teukolsky Equations\n",
    "- These require source terms for the right hand side of the equation"
   ]
  },
  {
   "cell_type": "markdown",
   "metadata": {
    "Collapsed": "false"
   },
   "source": [
    "## Teukolsky Source Terms"
   ]
  },
  {
   "cell_type": "code",
   "execution_count": null,
   "metadata": {
    "Collapsed": "false"
   },
   "outputs": [],
   "source": []
  }
 ],
 "metadata": {
  "kernelspec": {
   "display_name": "Python 3",
   "language": "python",
   "name": "python3"
  },
  "language_info": {
   "codemirror_mode": {
    "name": "ipython",
    "version": 3
   },
   "file_extension": ".py",
   "mimetype": "text/x-python",
   "name": "python",
   "nbconvert_exporter": "python",
   "pygments_lexer": "ipython3",
   "version": "3.6.9"
  }
 },
 "nbformat": 4,
 "nbformat_minor": 4
}
