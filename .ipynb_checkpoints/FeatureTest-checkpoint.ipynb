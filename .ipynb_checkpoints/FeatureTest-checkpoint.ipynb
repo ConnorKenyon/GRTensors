{
 "cells": [
  {
   "cell_type": "code",
   "execution_count": 1,
   "metadata": {
    "Collapsed": "false"
   },
   "outputs": [
    {
     "ename": "ValueError",
     "evalue": "-\\lambda is not in list",
     "output_type": "error",
     "traceback": [
      "\u001b[0;31m---------------------------------------------------------------------------\u001b[0m",
      "\u001b[0;31mValueError\u001b[0m                                Traceback (most recent call last)",
      "\u001b[0;32m<ipython-input-1-b7a98f303ad1>\u001b[0m in \u001b[0;36m<module>\u001b[0;34m\u001b[0m\n\u001b[1;32m     18\u001b[0m \u001b[0mch\u001b[0m \u001b[0;34m=\u001b[0m \u001b[0;36m.5\u001b[0m\u001b[0;34m*\u001b[0m\u001b[0mg_up\u001b[0m\u001b[0;34m*\u001b[0m\u001b[0mT\u001b[0m\u001b[0;34m\u001b[0m\u001b[0;34m\u001b[0m\u001b[0m\n\u001b[1;32m     19\u001b[0m \u001b[0;34m\u001b[0m\u001b[0m\n\u001b[0;32m---> 20\u001b[0;31m \u001b[0mch\u001b[0m\u001b[0;34m.\u001b[0m\u001b[0mautocontract\u001b[0m\u001b[0;34m(\u001b[0m\u001b[0;34m)\u001b[0m\u001b[0;34m\u001b[0m\u001b[0;34m\u001b[0m\u001b[0m\n\u001b[0m",
      "\u001b[0;32m~/Documents/School/Fall20/EAS621/Project/GRTensors/GRTensors/objects.py\u001b[0m in \u001b[0;36mautocontract\u001b[0;34m(self)\u001b[0m\n\u001b[1;32m    105\u001b[0m             \u001b[0;32mfor\u001b[0m \u001b[0mind\u001b[0m \u001b[0;32min\u001b[0m \u001b[0mself\u001b[0m\u001b[0;34m.\u001b[0m\u001b[0mindices\u001b[0m\u001b[0;34m:\u001b[0m\u001b[0;34m\u001b[0m\u001b[0;34m\u001b[0m\u001b[0m\n\u001b[1;32m    106\u001b[0m                 \u001b[0;32mif\u001b[0m \u001b[0;34m-\u001b[0m\u001b[0;36m1\u001b[0m\u001b[0;34m*\u001b[0m\u001b[0mind\u001b[0m \u001b[0;32min\u001b[0m \u001b[0mself\u001b[0m\u001b[0;34m.\u001b[0m\u001b[0mindices\u001b[0m\u001b[0;34m:\u001b[0m\u001b[0;34m\u001b[0m\u001b[0;34m\u001b[0m\u001b[0m\n\u001b[0;32m--> 107\u001b[0;31m                     \u001b[0mtmp\u001b[0m \u001b[0;34m=\u001b[0m \u001b[0mfunctions\u001b[0m\u001b[0;34m.\u001b[0m\u001b[0mtensor_contract\u001b[0m\u001b[0;34m(\u001b[0m\u001b[0mtmp\u001b[0m\u001b[0;34m,\u001b[0m\u001b[0mind\u001b[0m\u001b[0;34m,\u001b[0m\u001b[0;34m-\u001b[0m\u001b[0;36m1\u001b[0m\u001b[0;34m*\u001b[0m\u001b[0mind\u001b[0m\u001b[0;34m)\u001b[0m\u001b[0;34m\u001b[0m\u001b[0;34m\u001b[0m\u001b[0m\n\u001b[0m\u001b[1;32m    108\u001b[0m         \u001b[0;32mreturn\u001b[0m \u001b[0mtmp\u001b[0m\u001b[0;34m\u001b[0m\u001b[0;34m\u001b[0m\u001b[0m\n\u001b[1;32m    109\u001b[0m \u001b[0;31m#--------------------------------------------------------\u001b[0m\u001b[0;34m\u001b[0m\u001b[0;34m\u001b[0m\u001b[0;34m\u001b[0m\u001b[0m\n",
      "\u001b[0;32m~/Documents/School/Fall20/EAS621/Project/GRTensors/GRTensors/functions.py\u001b[0m in \u001b[0;36mtensor_contract\u001b[0;34m(T, ind1, ind2, autocontract)\u001b[0m\n\u001b[1;32m     39\u001b[0m \u001b[0;34m\u001b[0m\u001b[0m\n\u001b[1;32m     40\u001b[0m \u001b[0;34m\u001b[0m\u001b[0m\n\u001b[0;32m---> 41\u001b[0;31m     \u001b[0mi1\u001b[0m \u001b[0;34m=\u001b[0m \u001b[0mT\u001b[0m\u001b[0;34m.\u001b[0m\u001b[0mindices\u001b[0m\u001b[0;34m.\u001b[0m\u001b[0mindex\u001b[0m\u001b[0;34m(\u001b[0m\u001b[0mind1\u001b[0m\u001b[0;34m)\u001b[0m\u001b[0;34m\u001b[0m\u001b[0;34m\u001b[0m\u001b[0m\n\u001b[0m\u001b[1;32m     42\u001b[0m     \u001b[0mi2\u001b[0m \u001b[0;34m=\u001b[0m \u001b[0mT\u001b[0m\u001b[0;34m.\u001b[0m\u001b[0mindices\u001b[0m\u001b[0;34m.\u001b[0m\u001b[0mindex\u001b[0m\u001b[0;34m(\u001b[0m\u001b[0mind2\u001b[0m\u001b[0;34m)\u001b[0m\u001b[0;34m\u001b[0m\u001b[0;34m\u001b[0m\u001b[0m\n\u001b[1;32m     43\u001b[0m \u001b[0;34m\u001b[0m\u001b[0m\n",
      "\u001b[0;31mValueError\u001b[0m: -\\lambda is not in list"
     ]
    }
   ],
   "source": [
    "import GRTensors as grt\n",
    "import sympy\n",
    "import numpy as np\n",
    "\n",
    "alpha, lam, mu, nu = grt.make_index(r\"\\alpha \\lambda \\mu \\nu\")\n",
    "r, theta, phi = sympy.symbols(r\"r \\theta \\phi\")\n",
    "g1 = grt.Metric([theta, phi],[-nu,-lam],[[r**2,0],[0,(r*sympy.sin(theta))**2]])\n",
    "g2 = grt.Metric([theta, phi],[-mu,-lam],[[r**2,0],[0,(r*sympy.sin(theta))**2]])\n",
    "g3 = grt.Metric([theta, phi],[-mu,-nu],[[r**2,0],[0,(r*sympy.sin(theta))**2]])\n",
    "g_up = grt.Metric([theta, phi],[alpha,lam],g1.vals_raised())\n",
    "\n",
    "T1 = grt.diff(g1,[theta,phi],-mu)\n",
    "T2 = grt.diff(g2,[theta,phi],-nu)\n",
    "T3 = grt.diff(g3,[theta,phi],-lam)\n",
    "\n",
    "T = T1 + T2 - T3\n",
    "\n",
    "ch = .5*g_up*T\n",
    "\n",
    "ch.autocontract()"
   ]
  },
  {
   "cell_type": "code",
   "execution_count": null,
   "metadata": {
    "Collapsed": "false"
   },
   "outputs": [],
   "source": []
  },
  {
   "cell_type": "code",
   "execution_count": null,
   "metadata": {
    "Collapsed": "false"
   },
   "outputs": [],
   "source": []
  },
  {
   "cell_type": "code",
   "execution_count": 1,
   "metadata": {
    "Collapsed": "false"
   },
   "outputs": [],
   "source": [
    "import GRTensors as grt\n",
    "import sympy\n",
    "import numpy as np\n",
    "import copy"
   ]
  },
  {
   "cell_type": "markdown",
   "metadata": {
    "Collapsed": "false"
   },
   "source": [
    "### Index Symbol Wrapper"
   ]
  },
  {
   "cell_type": "code",
   "execution_count": 2,
   "metadata": {
    "Collapsed": "false"
   },
   "outputs": [],
   "source": [
    "a, b, c, d = grt.Indices(r\"\\alpha \\beta \\gamma \\delta\")\n",
    "e = grt.Index(r\"\\epsilon\")\n",
    "\n",
    "theta, phi = grt.Indices(r\"\\theta \\varphi\")\n",
    "twosphere_metric = grt.GRMetric([theta, phi], sympy.Array([[1, 0],[0, sympy.sin(theta)**2]]), 'lower')\n",
    "\n",
    "a, b = grt.Indices(r\"a b\")\n",
    "T1 = grt.GRTensor([a], sympy.Array([theta*phi*phi, phi*theta*theta]),twosphere_metric)\n",
    "T2 = grt.GRTensor([-a], sympy.Array([theta, phi]),twosphere_metric) \n",
    "\n",
    "T_12 = grt.GRTensor([a,-a],sympy.tensorproduct(T1.vals,T2.vals),twosphere_metric)"
   ]
  },
  {
   "cell_type": "code",
   "execution_count": null,
   "metadata": {
    "Collapsed": "false"
   },
   "outputs": [],
   "source": []
  },
  {
   "cell_type": "markdown",
   "metadata": {
    "Collapsed": "true"
   },
   "source": [
    "\n",
    "### GRTensors Covariant Derivative Implementation\n",
    "\n",
    "$$A^{\\alpha}_{~~;\\beta} = \n",
    "    \\frac{\\partial A^{\\alpha}}{\\partial x^{\\beta}} + \n",
    "    \\Gamma^{\\alpha}_{\\beta \\gamma} A^{\\gamma}$$\n",
    "\n",
    "$$A_{\\alpha;\\beta} = \n",
    "    \\frac{\\partial A_{\\alpha}}{\\partial x^{\\beta}} -\n",
    "    \\Gamma^{\\gamma}_{\\alpha \\beta} A_{\\gamma}$$"
   ]
  },
  {
   "cell_type": "code",
   "execution_count": 3,
   "metadata": {
    "Collapsed": "false"
   },
   "outputs": [
    {
     "data": {
      "text/plain": [
       "[[\\varphi**2, -1.0*\\theta**2*\\varphi*sin(\\theta)*cos(\\theta) + 2*\\theta*\\varphi], [1.0*\\theta**2*\\varphi*cos(\\theta)/sin(\\theta) + 2*\\theta*\\varphi, \\theta**2 + 1.0*\\theta*\\varphi**2*cos(\\theta)/sin(\\theta)]]"
      ]
     },
     "execution_count": 3,
     "metadata": {},
     "output_type": "execute_result"
    }
   ],
   "source": [
    "def CovariantDerivative(target, new_index):\n",
    "    ch = grt.ChristoffelFromMetric(target.metric)\n",
    "    coords = target.metric.coords\n",
    "    A_new = sympy.derive_by_array(target.vals, coords)\n",
    "    ind_new = target.indices + [new_index]\n",
    "    contracting_index = 2 + target.rank\n",
    "    for ind in target.indices:\n",
    "        if ind.is_positive:\n",
    "            A_new += sympy.tensorcontraction(sympy.tensorproduct(ch.vals[:,:,:],target.vals),(2,contracting_index))\n",
    "        elif ind.is_negative:\n",
    "            A_new -= sympy.tensorcontraction(sympy.tensorproduct(ch.vals[:,:,:],target.vals),(0,contracting_index))\n",
    "    return grt.GRTensor(ind_new,A_new,target.metric)\n",
    "   \n",
    "theta, phi = grt.Indices(r\"\\theta \\varphi\")\n",
    "twosphere_metric = grt.GRMetric([theta, phi], sympy.Array([[1, 0],[0, sympy.sin(theta)**2]]), 'lower')\n",
    "\n",
    "a, b = grt.Indices(r\"a b\")\n",
    "T = grt.GRTensor([a], sympy.Array([theta*phi*phi, phi*theta*theta]),twosphere_metric)\n",
    "\n",
    "CovariantDerivative(T, b)"
   ]
  },
  {
   "cell_type": "code",
   "execution_count": 4,
   "metadata": {
    "Collapsed": "false"
   },
   "outputs": [
    {
     "data": {
      "text/latex": [
       "$\\displaystyle \\left[\\begin{matrix}4 & 4\\\\6 & 6\\end{matrix}\\right]$"
      ],
      "text/plain": [
       "[[4, 4], [6, 6]]"
      ]
     },
     "execution_count": 4,
     "metadata": {},
     "output_type": "execute_result"
    }
   ],
   "source": [
    "sympy.Array([[1,1],[2,2]]) + sympy.Array([[3, 3], [4, 4]])"
   ]
  },
  {
   "cell_type": "code",
   "execution_count": null,
   "metadata": {
    "Collapsed": "false"
   },
   "outputs": [],
   "source": []
  },
  {
   "cell_type": "code",
   "execution_count": 5,
   "metadata": {
    "Collapsed": "false"
   },
   "outputs": [],
   "source": [
    "import sympy\n",
    "from sympy.functions.special.spherical_harmonics import Ynm\n",
    "\n",
    "l,m = sympy.symbols(\"n m\",real=True)\n",
    "# theta,phi = sympy.symbols(r\"theta phi\")\n",
    "l_,m_ = sympy.symbols(r\"l^\\prime,m^\\prime\")\n",
    "ylm = Ynm(l,m,theta,phi).expand(func=True)\n",
    "yl_m_ = sympy.conjugate(Ynm(l_,m_,theta,phi).expand(func=True))\n",
    "# ylm.expand(func=True).simplify()"
   ]
  },
  {
   "cell_type": "code",
   "execution_count": 6,
   "metadata": {
    "Collapsed": "false"
   },
   "outputs": [
    {
     "ename": "TypeError",
     "evalue": "deepcopy() missing 1 required positional argument: 'x'",
     "output_type": "error",
     "traceback": [
      "\u001b[0;31m---------------------------------------------------------------------------\u001b[0m",
      "\u001b[0;31mTypeError\u001b[0m                                 Traceback (most recent call last)",
      "\u001b[0;32m<ipython-input-6-09fd525d1db0>\u001b[0m in \u001b[0;36m<module>\u001b[0;34m\u001b[0m\n\u001b[1;32m      1\u001b[0m \u001b[0mL\u001b[0m \u001b[0;34m=\u001b[0m \u001b[0;34m[\u001b[0m\u001b[0;34m]\u001b[0m\u001b[0;34m\u001b[0m\u001b[0;34m\u001b[0m\u001b[0m\n\u001b[0;32m----> 2\u001b[0;31m \u001b[0mprint\u001b[0m\u001b[0;34m(\u001b[0m\u001b[0mL\u001b[0m\u001b[0;34m[\u001b[0m\u001b[0;34m:\u001b[0m\u001b[0;34m]\u001b[0m\u001b[0;34m,\u001b[0m\u001b[0mlen\u001b[0m\u001b[0;34m(\u001b[0m\u001b[0mL\u001b[0m\u001b[0;34m)\u001b[0m\u001b[0;34m,\u001b[0m\u001b[0msympy\u001b[0m\u001b[0;34m.\u001b[0m\u001b[0mMatrix\u001b[0m\u001b[0;34m(\u001b[0m\u001b[0mL\u001b[0m\u001b[0;34m)\u001b[0m\u001b[0;34m,\u001b[0m\u001b[0mcopy\u001b[0m\u001b[0;34m.\u001b[0m\u001b[0mdeepcopy\u001b[0m\u001b[0;34m(\u001b[0m\u001b[0;34m)\u001b[0m\u001b[0;34m)\u001b[0m\u001b[0;34m\u001b[0m\u001b[0;34m\u001b[0m\u001b[0m\n\u001b[0m",
      "\u001b[0;31mTypeError\u001b[0m: deepcopy() missing 1 required positional argument: 'x'"
     ]
    }
   ],
   "source": [
    "L = []\n",
    "print(L[:],len(L),sympy.Matrix(L),copy.deepcopy())"
   ]
  },
  {
   "cell_type": "code",
   "execution_count": 7,
   "metadata": {
    "Collapsed": "false"
   },
   "outputs": [
    {
     "data": {
      "text/plain": [
       "[-(n*cos(\\theta)*assoc_legendre(n, m, cos(\\theta)) - (m + n)*assoc_legendre(n - 1, m, cos(\\theta)))*sqrt(2*n*factorial(-m + n)/factorial(m + n) + factorial(-m + n)/factorial(m + n))*exp(I*\\varphi*m)*sin(\\theta)/(2*sqrt(pi)*(cos(\\theta)**2 - 1)), I*m*sqrt(2*n*factorial(-m + n)/factorial(m + n) + factorial(-m + n)/factorial(m + n))*exp(I*\\varphi*m)*assoc_legendre(n, m, cos(\\theta))/(2*sqrt(pi))]"
      ]
     },
     "execution_count": 7,
     "metadata": {},
     "output_type": "execute_result"
    }
   ],
   "source": [
    "r0_test = grt.GRTensor([],ylm,twosphere_metric)\n",
    "CovariantDerivative(r0_test,-a)"
   ]
  },
  {
   "cell_type": "code",
   "execution_count": 8,
   "metadata": {
    "Collapsed": "false"
   },
   "outputs": [],
   "source": [
    "from sympy.functions.special.polynomials import assoc_legendre as Pnm\n",
    "\n",
    "l = sympy.Symbol('l',real=True,positive=True, integer=True)\n",
    "m = sympy.Symbol('m',real=True,integer=True)\n",
    "\n",
    "theta, phi = sympy.symbols(\"theta phi\",real=True)\n",
    "\n",
    "# ylm = Ynm(l,m,theta,phi).expand(func=True)\n",
    "# ylm_star = Ynm(l,m,theta,phi).conjugate().expand(func=True)\n",
    "# yy_star = ylm*ylm_star\n",
    "# sympy.integrate(sympy.integrate(yy_star*sympy.sin(theta),(theta,0,2*sympy.pi)),(phi,0,sympy.pi))"
   ]
  },
  {
   "cell_type": "code",
   "execution_count": 9,
   "metadata": {
    "Collapsed": "false"
   },
   "outputs": [
    {
     "data": {
      "text/latex": [
       "$\\displaystyle \\int \\frac{\\theta^{\\phi^{2}} \\delta\\left(\\cos{\\left(\\theta \\right)}\\right)}{\\theta}\\, d\\theta$"
      ],
      "text/plain": [
       "Integral(theta**(phi**2)*DiracDelta(cos(theta))/theta, theta)"
      ]
     },
     "execution_count": 9,
     "metadata": {},
     "output_type": "execute_result"
    }
   ],
   "source": [
    "sympy.integrate(theta**(phi**2)/theta*sympy.DiracDelta(sympy.cos(theta)),theta)"
   ]
  },
  {
   "cell_type": "code",
   "execution_count": 10,
   "metadata": {
    "Collapsed": "false"
   },
   "outputs": [],
   "source": [
    "from sympy.integrals.deltafunctions import deltaintegrate "
   ]
  },
  {
   "cell_type": "code",
   "execution_count": 11,
   "metadata": {
    "Collapsed": "false"
   },
   "outputs": [
    {
     "data": {
      "text/latex": [
       "$\\displaystyle \\int \\frac{\\theta^{\\phi^{2}} \\delta\\left(\\cos{\\left(\\theta \\right)}\\right)}{\\theta}\\, d\\theta$"
      ],
      "text/plain": [
       "Integral(theta**(phi**2)*DiracDelta(cos(theta))/theta, theta)"
      ]
     },
     "execution_count": 11,
     "metadata": {},
     "output_type": "execute_result"
    }
   ],
   "source": [
    "sympy.integrate(theta**(phi**2)/theta*sympy.DiracDelta(sympy.cos(theta)),theta)"
   ]
  },
  {
   "cell_type": "code",
   "execution_count": 12,
   "metadata": {
    "Collapsed": "false"
   },
   "outputs": [],
   "source": [
    "def DiracDeltaIntegrate(integrand, variable):\n",
    "    if str(DiracDelta(variable)) in str(integrand):\n",
    "        print(integrand)\n",
    "    else:\n",
    "        print(\"No delta Function\")\n",
    "        \n",
    "    return"
   ]
  },
  {
   "cell_type": "code",
   "execution_count": 13,
   "metadata": {
    "Collapsed": "false"
   },
   "outputs": [
    {
     "ename": "NameError",
     "evalue": "name 'DiracDelta' is not defined",
     "output_type": "error",
     "traceback": [
      "\u001b[0;31m---------------------------------------------------------------------------\u001b[0m",
      "\u001b[0;31mNameError\u001b[0m                                 Traceback (most recent call last)",
      "\u001b[0;32m<ipython-input-13-b1ec5243df5d>\u001b[0m in \u001b[0;36m<module>\u001b[0;34m\u001b[0m\n\u001b[1;32m      1\u001b[0m \u001b[0mx\u001b[0m\u001b[0;34m,\u001b[0m \u001b[0my\u001b[0m \u001b[0;34m=\u001b[0m \u001b[0msympy\u001b[0m\u001b[0;34m.\u001b[0m\u001b[0msymbols\u001b[0m\u001b[0;34m(\u001b[0m\u001b[0;34m'x y'\u001b[0m\u001b[0;34m,\u001b[0m \u001b[0mreal\u001b[0m\u001b[0;34m=\u001b[0m\u001b[0;32mTrue\u001b[0m\u001b[0;34m)\u001b[0m\u001b[0;34m\u001b[0m\u001b[0;34m\u001b[0m\u001b[0m\n\u001b[1;32m      2\u001b[0m \u001b[0;34m\u001b[0m\u001b[0m\n\u001b[0;32m----> 3\u001b[0;31m \u001b[0mf\u001b[0m \u001b[0;34m=\u001b[0m \u001b[0mDiracDelta\u001b[0m\u001b[0;34m(\u001b[0m\u001b[0mx\u001b[0m\u001b[0;34m-\u001b[0m\u001b[0;36m2\u001b[0m\u001b[0;34m)\u001b[0m\u001b[0;34m*\u001b[0m\u001b[0mDiracDelta\u001b[0m\u001b[0;34m(\u001b[0m\u001b[0my\u001b[0m\u001b[0;34m)\u001b[0m\u001b[0;34m\u001b[0m\u001b[0;34m\u001b[0m\u001b[0m\n\u001b[0m",
      "\u001b[0;31mNameError\u001b[0m: name 'DiracDelta' is not defined"
     ]
    }
   ],
   "source": [
    "x, y = sympy.symbols('x y', real=True)\n",
    "\n",
    "f = DiracDelta(x-2)*DiracDelta(y)\n"
   ]
  },
  {
   "cell_type": "code",
   "execution_count": 19,
   "metadata": {
    "Collapsed": "false"
   },
   "outputs": [
    {
     "data": {
      "text/latex": [
       "$\\displaystyle \\frac{\\sqrt{\\frac{2 l \\left(l - m\\right)!}{\\left(l + m\\right)!} + \\frac{\\left(l - m\\right)!}{\\left(l + m\\right)!}} \\overline{\\sqrt{\\frac{2 l \\left(l - m\\right)!}{\\left(l + m\\right)!} + \\frac{\\left(l - m\\right)!}{\\left(l + m\\right)!}}} \\left(P_{l}^{\\left(m\\right)}\\left(\\cos{\\left(\\theta \\right)}\\right)\\right)^{2}}{4 \\pi}$"
      ],
      "text/plain": [
       "sqrt(2*l*factorial(l - m)/factorial(l + m) + factorial(l - m)/factorial(l + m))*conjugate(sqrt(2*l*factorial(l - m)/factorial(l + m) + factorial(l - m)/factorial(l + m)))*assoc_legendre(l, m, cos(theta))**2/(4*pi)"
      ]
     },
     "execution_count": 19,
     "metadata": {},
     "output_type": "execute_result"
    }
   ],
   "source": [
    "ylm = grt.ScalarSphericalHarmonics(theta, phi)\n",
    "ylm*sympy.conjugate(ylm)"
   ]
  },
  {
   "cell_type": "markdown",
   "metadata": {
    "Collapsed": "false"
   },
   "source": [
    "### Tensor Refactor Test\n",
    "\n",
    "Desired Capabilities of Tensors:\n",
    "- Swap index to another index(change label)"
   ]
  },
  {
   "cell_type": "code",
   "execution_count": 20,
   "metadata": {
    "Collapsed": "false"
   },
   "outputs": [],
   "source": [
    "import sympy \n",
    "import numpy as np\n",
    "import copy\n",
    "import itertools\n",
    "\n",
    "#--------------------------------------------------------\n",
    "class Tensor():\n",
    "    def __init__(self, indices, values):\n",
    "        self.indices = indices[:]\n",
    "        self.rank = len(indices)\n",
    "        self.vals = sympy.Array(copy.deepcopy(values))\n",
    "        return\n",
    "    \n",
    "    def __repr__(self):\n",
    "        return repr(self.vals)\n",
    "    \n",
    "    def copy(self):\n",
    "        return Tensor(self.indices[:],copy.deepcopy(self.vals))\n",
    "    \n",
    "    def change_index(self,old_index,new_index):\n",
    "        if old_index*new_index < 0:\n",
    "            raise ValueError(\"Index types do not match\")\n",
    "\n",
    "        if old_index in self.indices:\n",
    "            return Tensor([new_index if i==old_index else i for i in self.indices],self.vals)\n",
    "        else:\n",
    "            return self\n",
    "    \n",
    "    def swap_indices(self,ind1,ind2):\n",
    "        if ind1 not in self.indices or ind2 not in self.indices: \n",
    "            raise AttributeError(\"Index not found in tensor indices\")\n",
    "            \n",
    "        a1 = self.indices.index(ind1)\n",
    "        a2 = self.indices.index(ind2)\n",
    "        self.vals = sympy.Array(np.array(self.vals.tolist()).swapaxes(a1,a2))\n",
    "        return Tensor(self.indices[:],copy.deepcopy(self.vals))\n",
    "#--------------------------------------------------------\n",
    "\n",
    "#--------------------------------------------------------\n",
    "class Metric(Tensor):\n",
    "    def __init__(self,coords, indices, values):\n",
    "        super().__init__(indices,values)\n",
    "        self.coords = coords[:]\n",
    "        self.dims = len(coords)\n",
    "        self.vals = sympy.Matrix(self.vals)\n",
    "        return\n",
    "    \n",
    "    def __repr__(self):\n",
    "        return repr(self.vals)\n",
    "    \n",
    "    def get_state(self):\n",
    "        i1 = self.indices[0].is_positive\n",
    "        i2 = self.indices[1].is_positive\n",
    "        state=\"\"\n",
    "        if i1==True and i2==True:\n",
    "            state=\"++\"\n",
    "        elif i1==True and i2==False:\n",
    "            state=\"+-\"\n",
    "        elif i1==False and i2==True:\n",
    "            state=\"-+\"\n",
    "        elif i1==False and i2==False:\n",
    "            state=\"--\"\n",
    "        return state\n",
    "    \n",
    "    def vals_lowered(self):\n",
    "        state = self.get_state()\n",
    "        metricvals = self.vals\n",
    "        if state == '--':\n",
    "            return metricvals\n",
    "        elif state == '++':\n",
    "            return metricvals.inv()\n",
    "        else:\n",
    "            return None\n",
    "        \n",
    "    def vals_raised(self):\n",
    "        state = self.get_state()\n",
    "        metricvals = self.vals\n",
    "        if state == '++':\n",
    "            return metricvals\n",
    "        elif state == '--':\n",
    "            return metricvals.inv()\n",
    "        else:\n",
    "            return None\n",
    "        \n",
    "    def raise_metric(self):\n",
    "        if self.get_state() == '--':\n",
    "            self.vals = self.vals.inv()\n",
    "            self.indices = [-1*i for i in self.indices]\n",
    "        else:\n",
    "            pass\n",
    "        return\n",
    "    \n",
    "    def lower_metric(self):\n",
    "        if self.get_state() == '++':\n",
    "            self.vals = self.vals.inv()\n",
    "            self.indices = [-1*i for i in self.indices]\n",
    "        else:\n",
    "            pass\n",
    "        return        \n",
    "        \n",
    "#--------------------------------------------------------\n",
    "\n",
    "\n",
    "def make_index(ind_string):\n",
    "    return sympy.symbols(ind_string, real=True, positive=True)\n",
    "\n",
    "def tensor_product(T1, T2, contraction=None):\n",
    "    new_ind = T1.indices[:] + T2.indices[:]\n",
    "    new_vals = sympy.tensorproduct(copy.deepcopy(T1.vals),copy.deepcopy(T2.vals))\n",
    "    Tf = Tensor(new_ind,new_vals)\n",
    "    if contraction:\n",
    "        return tensor_contract(Tf,contraction[0],contraction[1])\n",
    "    else:\n",
    "        return Tf\n",
    "        \n",
    "    return Tensor(new_ind,new_vals)\n",
    "\n",
    "def tensor_contract(T,ind1,ind2):\n",
    "    if ind1*ind2 > 0:\n",
    "        raise AttributeError(\"Index 1 and 2 cannot be in the same state\")\n",
    "    i1 = T.indices.index(ind1)\n",
    "    i2 = T.indices.index(ind2)\n",
    "    \n",
    "    new_indices = T.indices\n",
    "    new_indices.remove(ind1)\n",
    "    new_indices.remove(ind2)\n",
    "    new_vals = sympy.tensorcontraction(T.vals,(i1,i2))\n",
    "    return Tensor(new_indices,new_vals)\n",
    "\n",
    "def christoffel_from_metric(metric):\n",
    "    i,j,k,m = make_index(\"i j k m\")\n",
    "    initial_state = metric.get_state()\n",
    "    coords = metric.coords[:]\n",
    "    m1 = metric.copy()\n",
    "    m2 = metric.copy()\n",
    "    m3 = metric.copy()\n",
    "\n",
    "    m1.change_index(m1.indices[0],-m).change_index(m1.indices[1],-j)\n",
    "    m2.change_index(m2.indices[0],-m).change_index(m2.indices[1],-k)\n",
    "    m3.change_index(m3.indices[0],-j).change_index(m3.indices[1],-k)\n",
    "\n",
    "    # TODO: reset this to calculate this as a tensor quantity\n",
    "    \n",
    "    return\n",
    "   \n",
    "\n",
    "def split_list(inds,sep):\n",
    "    if sep in inds:\n",
    "        inds1 = inds[:inds.index(sep)]\n",
    "        inds2 = inds[inds.index(sep)+1:]\n",
    "    else:\n",
    "        inds1 = inds[:]\n",
    "        inds2 = []\n",
    "    return inds1,inds2\n",
    "        \n",
    "        \n",
    "def diff(target,metric,index):\n",
    "    if type(target) == Tensor or type(target) == Metric:\n",
    "        new_indices = target.indices[:] + [index]\n",
    "        coords = metric.coords[:] \n",
    "        new_vals = sympy.derive_by_array(target.vals,coords)\n",
    "        return Tensor(new_indices,new_vals)\n",
    "    else:\n",
    "        new_indices = [index]\n",
    "        coords = metric.coords[:]\n",
    "        new_vals = sympy.derive_by_array(target,coords)\n",
    "        return Tensor(new_indices,new_vals)\n",
    "\n",
    "def add(T1,T2):\n",
    "    if type(T1) != Metric and type(T1) != Tensor:\n",
    "        raise AttributeError(\"T1 is not a valid type\")\n",
    "    if type(T2) != Metric and type(T2) != Tensor:\n",
    "        raise AttributeError(\"T2 is not a valid type\")\n",
    "    \n",
    "    return Tensor(T1.indices[:],T1.vals+T2.vals)\n",
    "        \n",
    "def subtract(T1,T2):\n",
    "    if type(T1) != Metric and type(T1) != Tensor:\n",
    "        raise AttributeError(\"T1 is not a valid type\")\n",
    "    if type(T2) != Metric and type(T2) != Tensor:\n",
    "        raise AttributeError(\"T2 is not a valid type\")\n",
    "    \n",
    "    return Tensor(T1.indices[:],T1.vals-T2.vals)\n",
    "    \n",
    "def cov_diff(target,metric,index):\n",
    "    new_indices = target.indices[:] + [index]\n",
    "    coords = metric.coords[:]\n",
    "    return target"
   ]
  },
  {
   "cell_type": "code",
   "execution_count": 23,
   "metadata": {
    "Collapsed": "false"
   },
   "outputs": [],
   "source": [
    "t, r, theta, phi = sympy.symbols(r\"t r \\theta \\phi\")\n",
    "a,b,c,d = make_index(\"a b c d\")\n",
    "i,j,k,l,m,n = make_index(\"i j k l m n\")\n",
    "\n",
    "testvals = sympy.Array([r, r*theta])\n",
    "T = Tensor([-a],testvals)\n",
    "\n",
    "testmetric = sympy.Matrix([[r*r, 0],[0, r*r*sympy.sin(theta)**2]])\n",
    "g = Metric([theta,phi],[-m,-n],testmetric)\n",
    "g0 = Metric([theta,phi],[m,k],0.5*testmetric.inv())\n",
    "g1 = Metric([theta,phi],[-k,-i],testmetric)\n",
    "g2 = Metric([theta,phi],[-k,-j],testmetric)\n",
    "g3 = Metric([theta,phi],[-i,-j],testmetric)\n",
    "\n",
    "\n",
    "term1 = tensor_product(g0,diff(g1,g,-j),contraction=(k,-k))\n",
    "term2 = tensor_product(g0,diff(g2,g,-i),contraction=(k,-k))\n",
    "term3 = tensor_product(g0,diff(g3,g,-k),contraction=(k,-k))\n",
    "\n",
    "# .5*(term1.vals + term2.vals + term3.vals)\n",
    "term1.vals[0]\n",
    "Ch = christoffel_from_metric(g)\n"
   ]
  },
  {
   "cell_type": "code",
   "execution_count": 25,
   "metadata": {
    "Collapsed": "false"
   },
   "outputs": [
    {
     "ename": "AttributeError",
     "evalue": "'NoneType' object has no attribute 'vals'",
     "output_type": "error",
     "traceback": [
      "\u001b[0;31m---------------------------------------------------------------------------\u001b[0m",
      "\u001b[0;31mAttributeError\u001b[0m                            Traceback (most recent call last)",
      "\u001b[0;32m<ipython-input-25-4081f805b7d4>\u001b[0m in \u001b[0;36m<module>\u001b[0;34m\u001b[0m\n\u001b[0;32m----> 1\u001b[0;31m \u001b[0mCh\u001b[0m\u001b[0;34m.\u001b[0m\u001b[0mvals\u001b[0m\u001b[0;34m\u001b[0m\u001b[0;34m\u001b[0m\u001b[0m\n\u001b[0m",
      "\u001b[0;31mAttributeError\u001b[0m: 'NoneType' object has no attribute 'vals'"
     ]
    }
   ],
   "source": [
    "Ch.vals"
   ]
  },
  {
   "cell_type": "code",
   "execution_count": null,
   "metadata": {
    "Collapsed": "false"
   },
   "outputs": [],
   "source": []
  },
  {
   "cell_type": "code",
   "execution_count": null,
   "metadata": {
    "Collapsed": "false"
   },
   "outputs": [],
   "source": []
  }
 ],
 "metadata": {
  "kernelspec": {
   "display_name": "Python 3",
   "language": "python",
   "name": "python3"
  },
  "language_info": {
   "codemirror_mode": {
    "name": "ipython",
    "version": 3
   },
   "file_extension": ".py",
   "mimetype": "text/x-python",
   "name": "python",
   "nbconvert_exporter": "python",
   "pygments_lexer": "ipython3",
   "version": "3.6.9"
  }
 },
 "nbformat": 4,
 "nbformat_minor": 4
}
