{
 "cells": [
  {
   "cell_type": "code",
   "execution_count": 1,
   "metadata": {
    "Collapsed": "false"
   },
   "outputs": [],
   "source": [
    "import GRTensors as grt\n",
    "import sympy"
   ]
  },
  {
   "cell_type": "markdown",
   "metadata": {
    "Collapsed": "true"
   },
   "source": [
    "## Creating a Metric Tensor"
   ]
  },
  {
   "cell_type": "code",
   "execution_count": 3,
   "metadata": {
    "Collapsed": "false"
   },
   "outputs": [
    {
     "name": "stdout",
     "output_type": "stream",
     "text": [
      "⎡   1                                   ⎤\n",
      "⎢───────      0      0          0       ⎥\n",
      "⎢2⋅m                                    ⎥\n",
      "⎢─── - 1                                ⎥\n",
      "⎢ r                                     ⎥\n",
      "⎢                                       ⎥\n",
      "⎢           2⋅m                         ⎥\n",
      "⎢   0     - ─── + 1  0          0       ⎥\n",
      "⎢            r                          ⎥\n",
      "⎢                                       ⎥\n",
      "⎢                    1                  ⎥\n",
      "⎢   0         0      ──         0       ⎥\n",
      "⎢                     2                 ⎥\n",
      "⎢                    r                  ⎥\n",
      "⎢                                       ⎥\n",
      "⎢                               1       ⎥\n",
      "⎢   0         0      0   ───────────────⎥\n",
      "⎢                         2    2        ⎥\n",
      "⎣                        r ⋅sin (\\theta)⎦\n",
      "========================================\n",
      "⎡2⋅m                                    ⎤\n",
      "⎢─── - 1      0      0          0       ⎥\n",
      "⎢ r                                     ⎥\n",
      "⎢                                       ⎥\n",
      "⎢             1                         ⎥\n",
      "⎢   0     ─────────  0          0       ⎥\n",
      "⎢           2⋅m                         ⎥\n",
      "⎢         - ─── + 1                     ⎥\n",
      "⎢            r                          ⎥\n",
      "⎢                                       ⎥\n",
      "⎢                     2                 ⎥\n",
      "⎢   0         0      r          0       ⎥\n",
      "⎢                                       ⎥\n",
      "⎢                         2    2        ⎥\n",
      "⎣   0         0      0   r ⋅sin (\\theta)⎦\n"
     ]
    }
   ],
   "source": [
    "rs= sympy.Symbol(r'r_s')\n",
    "m = sympy.Symbol(r'm')\n",
    "t, r, theta, phi = sympy.symbols(r't, r, \\theta, \\phi')\n",
    "g_vals = sympy.Matrix([\n",
    "    [-(1-2*m/r), 0, 0, 0],\n",
    "    [0,1/(1-2*m/r), 0, 0],\n",
    "    [0,0,r*r,0],\n",
    "    [0,0,0,r*r*sympy.sin(theta)**2]\n",
    "])\n",
    "\n",
    "g = grt.GRMetric([t,r,theta,phi],metric=g_vals)\n",
    "\n",
    "sympy.pprint(g.raised)\n",
    "print('========================================')\n",
    "sympy.pprint(g.lowered)"
   ]
  },
  {
   "cell_type": "markdown",
   "metadata": {
    "Collapsed": "true"
   },
   "source": [
    "## Calculating Properties of the Metric Tensor"
   ]
  },
  {
   "cell_type": "markdown",
   "metadata": {
    "Collapsed": "true"
   },
   "source": [
    "### Christoffel Symbols"
   ]
  },
  {
   "cell_type": "code",
   "execution_count": 4,
   "metadata": {
    "Collapsed": "false"
   },
   "outputs": [
    {
     "name": "stdout",
     "output_type": "stream",
     "text": [
      "  -1.0⋅m   \n",
      "───────────\n",
      "r⋅(2⋅m - r)\n",
      "\n",
      "\n",
      "  -1.0⋅m   \n",
      "───────────\n",
      "r⋅(2⋅m - r)\n",
      "\n",
      "\n",
      "1.0⋅m⋅(-2.0⋅m + 1.0⋅r)\n",
      "──────────────────────\n",
      "           3          \n",
      "          r           \n",
      "\n",
      "\n",
      "      1.0⋅m      \n",
      "─────────────────\n",
      "r⋅(2.0⋅m - 1.0⋅r)\n",
      "\n",
      "\n",
      "2.0⋅m - 1.0⋅r\n",
      "\n",
      "\n",
      "                   2        \n",
      "(2.0⋅m - 1.0⋅r)⋅sin (\\theta)\n",
      "\n",
      "\n",
      "1.0\n",
      "───\n",
      " r \n",
      "\n",
      "\n",
      "1.0\n",
      "───\n",
      " r \n",
      "\n",
      "\n",
      "-0.5⋅sin(2⋅\\theta)\n",
      "\n",
      "\n",
      "1.0\n",
      "───\n",
      " r \n",
      "\n",
      "\n",
      "    1.0    \n",
      "───────────\n",
      "tan(\\theta)\n",
      "\n",
      "\n",
      "1.0\n",
      "───\n",
      " r \n",
      "\n",
      "\n",
      "    1.0    \n",
      "───────────\n",
      "tan(\\theta)\n",
      "\n",
      "\n"
     ]
    }
   ],
   "source": [
    "ch = g.Christoffel_symbols\n",
    "for v in ch.vals:\n",
    "    if v != 0:\n",
    "        sympy.pprint(v)\n",
    "        print()\n",
    "        print()"
   ]
  },
  {
   "cell_type": "markdown",
   "metadata": {
    "Collapsed": "true"
   },
   "source": [
    "### Riemann Tensor"
   ]
  },
  {
   "cell_type": "code",
   "execution_count": 5,
   "metadata": {
    "Collapsed": "false"
   },
   "outputs": [
    {
     "name": "stdout",
     "output_type": "stream",
     "text": [
      "2.0*m/(r**2*(-2.0*m + 1.0*r))\n",
      "2.0*m/(r**2*(2.0*m - 1.0*r))\n",
      "-1.0*m/r\n",
      "1.0*m/r\n",
      "-1.0*m*sin(\\theta)**2/r\n",
      "1.0*m*sin(\\theta)**2/r\n",
      "1.0*m*(-4.0*m + 2.0*r)/r**4\n",
      "1.0*m*(4.0*m - 2.0*r)/r**4\n",
      "-1.0*m/r\n",
      "1.0*m/r\n",
      "-1.0*m*sin(\\theta)**2/r\n",
      "1.0*m*sin(\\theta)**2/r\n",
      "2.0*m*(1.0*m - 0.5*r)/r**4\n",
      "1.0*m*(-2.0*m + 1.0*r)/r**4\n",
      "1.0*m/(r**2*(-2.0*m + 1.0*r))\n",
      "1.0*m/(r**2*(2.0*m - 1.0*r))\n",
      "2.0*m*sin(\\theta)**2/r\n",
      "-2.0*m*sin(\\theta)**2/r\n",
      "2.0*m*(1.0*m - 0.5*r)/r**4\n",
      "1.0*m*(-2.0*m + 1.0*r)/r**4\n",
      "1.0*m/(r**2*(-2.0*m + 1.0*r))\n",
      "1.0*m/(r**2*(2.0*m - 1.0*r))\n",
      "-2.0*m/r\n",
      "2.0*m/r\n"
     ]
    }
   ],
   "source": [
    "riemann_schwarzschild=g.curvature()\n",
    "for v in riemann_schwarzschild.vals:\n",
    "    if v != 0:\n",
    "        print(v.simplify())\n"
   ]
  },
  {
   "cell_type": "markdown",
   "metadata": {
    "Collapsed": "true"
   },
   "source": [
    "### Ricci Tensor"
   ]
  },
  {
   "cell_type": "code",
   "execution_count": 6,
   "metadata": {
    "Collapsed": "false"
   },
   "outputs": [
    {
     "data": {
      "text/latex": [
       "$\\displaystyle \\left[\\begin{matrix}0 & 0 & 0 & 0\\\\0 & 0 & 0 & 0\\\\0 & 0 & 0 & 0\\\\0 & 0 & 0 & 0\\end{matrix}\\right]$"
      ],
      "text/plain": [
       "[[0, 0, 0, 0], [0, 0, 0, 0], [0, 0, 0, 0], [0, 0, 0, 0]]"
      ]
     },
     "execution_count": 6,
     "metadata": {},
     "output_type": "execute_result"
    }
   ],
   "source": [
    "ricci2 = g.ricci_tensor()\n",
    "\n",
    "# simplify every term in the tensor\n",
    "ricci2.vals = sympy.Array([i.simplify() for i in ricci2.vals]).reshape(4,4)\n",
    "ricci2.vals"
   ]
  },
  {
   "cell_type": "markdown",
   "metadata": {
    "Collapsed": "true"
   },
   "source": [
    "### Ricci Scalar"
   ]
  },
  {
   "cell_type": "code",
   "execution_count": 73,
   "metadata": {
    "Collapsed": "false"
   },
   "outputs": [
    {
     "data": {
      "text/latex": [
       "$\\displaystyle 0$"
      ],
      "text/plain": [
       "0"
      ]
     },
     "execution_count": 73,
     "metadata": {},
     "output_type": "execute_result"
    }
   ],
   "source": [
    "ricci0 = g.ricci_scalar()\n",
    "ricci0.simplify()"
   ]
  },
  {
   "cell_type": "code",
   "execution_count": null,
   "metadata": {
    "Collapsed": "false"
   },
   "outputs": [],
   "source": []
  }
 ],
 "metadata": {
  "kernelspec": {
   "display_name": "Python 3",
   "language": "python",
   "name": "python3"
  },
  "language_info": {
   "codemirror_mode": {
    "name": "ipython",
    "version": 3
   },
   "file_extension": ".py",
   "mimetype": "text/x-python",
   "name": "python",
   "nbconvert_exporter": "python",
   "pygments_lexer": "ipython3",
   "version": "3.6.9"
  }
 },
 "nbformat": 4,
 "nbformat_minor": 4
}
