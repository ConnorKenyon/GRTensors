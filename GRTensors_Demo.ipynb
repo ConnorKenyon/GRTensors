{
 "cells": [
  {
   "cell_type": "markdown",
   "metadata": {
    "Collapsed": "false"
   },
   "source": [
    "# GRTensors Examples"
   ]
  },
  {
   "cell_type": "code",
   "execution_count": 1,
   "metadata": {
    "Collapsed": "false"
   },
   "outputs": [],
   "source": [
    "import GRTensors as grt\n",
    "import sympy\n",
    "import copy"
   ]
  },
  {
   "cell_type": "code",
   "execution_count": 7,
   "metadata": {
    "Collapsed": "false"
   },
   "outputs": [
    {
     "name": "stdout",
     "output_type": "stream",
     "text": [
      "Matrix([\n",
      "[1,    0],\n",
      "[0, x**2]])\n",
      "Matrix([\n",
      "[1,       0],\n",
      "[0, x**(-2)]])\n",
      "Matrix([\n",
      "[1,       0],\n",
      "[0, x**(-2)]])\n"
     ]
    }
   ],
   "source": [
    "x,y = sympy.symbols('x y')\n",
    "values = sympy.Array([[x,x**2],[y**2,y]])\n",
    "U_ab = grt.GRTensor({'alpha':'upper','beta':'lower'},values)\n",
    "\n",
    "metricvals = sympy.Array([[1,0],[0,x**2]])\n",
    "g_mn = grt.GRMetric([x,y],metricvals,'lower')\n",
    "print(g_mn)\n",
    "g_mn.change_state('upper')\n",
    "print(g_mn)\n",
    "g_mn.change_state('upper')\n",
    "print(g_mn)\n",
    "\n",
    "grt."
   ]
  },
  {
   "cell_type": "code",
   "execution_count": null,
   "metadata": {
    "Collapsed": "false"
   },
   "outputs": [],
   "source": []
  }
 ],
 "metadata": {
  "kernelspec": {
   "display_name": "Python 3",
   "language": "python",
   "name": "python3"
  },
  "language_info": {
   "codemirror_mode": {
    "name": "ipython",
    "version": 3
   },
   "file_extension": ".py",
   "mimetype": "text/x-python",
   "name": "python",
   "nbconvert_exporter": "python",
   "pygments_lexer": "ipython3",
   "version": "3.6.9"
  }
 },
 "nbformat": 4,
 "nbformat_minor": 4
}
