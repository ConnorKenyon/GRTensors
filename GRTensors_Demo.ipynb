{
 "cells": [
  {
   "cell_type": "markdown",
   "metadata": {
    "Collapsed": "false"
   },
   "source": [
    "# GRTensors Examples"
   ]
  },
  {
   "cell_type": "code",
   "execution_count": 1,
   "metadata": {
    "Collapsed": "false"
   },
   "outputs": [],
   "source": [
    "import GRTensors as grt\n",
    "import sympy\n",
    "import copy"
   ]
  },
  {
   "cell_type": "markdown",
   "metadata": {
    "Collapsed": "false"
   },
   "source": [
    "## GRTensors.GRMetric Examples"
   ]
  },
  {
   "cell_type": "markdown",
   "metadata": {
    "Collapsed": "false"
   },
   "source": [
    "Steps to create a metric:\n",
    "- Define symbols to be used in the metric tensor (if any)\n",
    "- Define symbols for the coordinates to be used\n",
    "- Define a 2-Dimensional square sympy Matrix (sympy.Matrix) with the desired values\n",
    "- Create the metric using the following command:\n",
    "\n",
    "```python\n",
    "metric = grt.GRMetric(LIST OF COORDINATES, metric=METRIC)\n",
    "```\n"
   ]
  },
  {
   "cell_type": "markdown",
   "metadata": {
    "Collapsed": "false"
   },
   "source": [
    "### Creating a metric"
   ]
  },
  {
   "cell_type": "code",
   "execution_count": 3,
   "metadata": {
    "Collapsed": "false"
   },
   "outputs": [
    {
     "name": "stdout",
     "output_type": "stream",
     "text": [
      "⎡1  0 ⎤\n",
      "⎢     ⎥\n",
      "⎢   1 ⎥\n",
      "⎢0  ──⎥\n",
      "⎢    2⎥\n",
      "⎣   r ⎦\n",
      "⎡1  0 ⎤\n",
      "⎢     ⎥\n",
      "⎢    2⎥\n",
      "⎣0  r ⎦\n"
     ]
    }
   ],
   "source": [
    "# 2D Polar Coordinates Metric\n",
    "\n",
    "r, theta = sympy.symbols(r'r \\theta')\n",
    "g2_vals = sympy.Matrix([\n",
    "    [1, 0],\n",
    "    [0, r**2]\n",
    "])\n",
    "\n",
    "g_polar = grt.GRMetric([r,theta],metric=g2_vals)\n",
    "sympy.pprint(g_polar.raised)\n",
    "sympy.pprint(g_polar.lowered)"
   ]
  },
  {
   "cell_type": "code",
   "execution_count": 4,
   "metadata": {
    "Collapsed": "false"
   },
   "outputs": [],
   "source": [
    "# 3D Spherical Coordinates Metric\n",
    "\n",
    "r, theta, phi = sympy.symbols(r'r \\theta \\phi')\n",
    "g3_vals = sympy.Matrix([\n",
    "    [1, 0, 0],\n",
    "    [0, r*r, 0],\n",
    "    [0, 0, r*r*sympy.sin(theta)**2]\n",
    "])\n",
    "\n",
    "g_spherical = grt.GRMetric([r, theta, phi],metric=g3_vals)"
   ]
  },
  {
   "cell_type": "code",
   "execution_count": 5,
   "metadata": {
    "Collapsed": "false"
   },
   "outputs": [],
   "source": [
    "# 4D Schwarzschild Metric\n",
    "\n",
    "rs= sympy.Symbol(r'r_s')\n",
    "m = sympy.Symbol(r'm')\n",
    "t, r, theta, phi = sympy.symbols(r't, r, \\theta, \\phi')\n",
    "g4_vals = sympy.Matrix([\n",
    "    [-(1-2*m/r), 0, 0, 0],\n",
    "    [0,1/(1-2*m/r), 0, 0],\n",
    "    [0,0,r*r,0],\n",
    "    [0,0,0,r*r*sympy.sin(theta)**2]\n",
    "])\n",
    "\n",
    "g_sc = grt.GRMetric([t,r,theta,phi],metric=g4_vals)"
   ]
  },
  {
   "cell_type": "markdown",
   "metadata": {
    "Collapsed": "false"
   },
   "source": [
    "### Geometric Properties of a Metric"
   ]
  },
  {
   "cell_type": "markdown",
   "metadata": {
    "Collapsed": "false"
   },
   "source": [
    "#### Christoffel Symbols"
   ]
  },
  {
   "cell_type": "markdown",
   "metadata": {
    "Collapsed": "false"
   },
   "source": [
    "The christoffel symbols function returns a GRTensor containing the christoffel symbols, $\\Gamma^{\\alpha}_{\\mu \\nu}$, of the metric.\n",
    "To access the values, print/assign the vals parameter (see documentation)"
   ]
  },
  {
   "cell_type": "code",
   "execution_count": 7,
   "metadata": {
    "Collapsed": "false"
   },
   "outputs": [
    {
     "data": {
      "text/latex": [
       "$\\displaystyle \\left[\\begin{matrix}\\left[\\begin{matrix}0 & - \\frac{1.0 m}{r^{2} \\left(\\frac{2 m}{r} - 1\\right)} & 0 & 0\\\\- \\frac{1.0 m}{r^{2} \\left(\\frac{2 m}{r} - 1\\right)} & 0 & 0 & 0\\\\0 & 0 & 0 & 0\\\\0 & 0 & 0 & 0\\end{matrix}\\right] & \\left[\\begin{matrix}\\frac{2 m \\left(- \\frac{1.0 m}{r} + 0.5\\right)}{r^{2}} & 0 & 0 & 0\\\\0 & - \\frac{2 m \\left(- \\frac{1.0 m}{r} + 0.5\\right)}{r^{2} \\left(- \\frac{2 m}{r} + 1\\right)^{2}} & 0 & 0\\\\0 & 0 & - 2 r \\left(- \\frac{1.0 m}{r} + 0.5\\right) & 0\\\\0 & 0 & 0 & - 2 r \\left(- \\frac{1.0 m}{r} + 0.5\\right) \\sin^{2}{\\left(\\theta \\right)}\\end{matrix}\\right] & \\left[\\begin{matrix}0 & 0 & 0 & 0\\\\0 & 0 & \\frac{1.0}{r} & 0\\\\0 & \\frac{1.0}{r} & 0 & 0\\\\0 & 0 & 0 & - 1.0 \\sin{\\left(\\theta \\right)} \\cos{\\left(\\theta \\right)}\\end{matrix}\\right] & \\left[\\begin{matrix}0 & 0 & 0 & 0\\\\0 & 0 & 0 & \\frac{1.0}{r}\\\\0 & 0 & 0 & \\frac{1.0 \\cos{\\left(\\theta \\right)}}{\\sin{\\left(\\theta \\right)}}\\\\0 & \\frac{1.0}{r} & \\frac{1.0 \\cos{\\left(\\theta \\right)}}{\\sin{\\left(\\theta \\right)}} & 0\\end{matrix}\\right]\\end{matrix}\\right]$"
      ],
      "text/plain": [
       "[[[0, -1.0*m/(r**2*(2*m/r - 1)), 0, 0], [-1.0*m/(r**2*(2*m/r - 1)), 0, 0, 0], [0, 0, 0, 0], [0, 0, 0, 0]], [[2*m*(-1.0*m/r + 0.5)/r**2, 0, 0, 0], [0, -2*m*(-1.0*m/r + 0.5)/(r**2*(-2*m/r + 1)**2), 0, 0], [0, 0, -2*r*(-1.0*m/r + 0.5), 0], [0, 0, 0, -2*r*(-1.0*m/r + 0.5)*sin(\\theta)**2]], [[0, 0, 0, 0], [0, 0, 1.0/r, 0], [0, 1.0/r, 0, 0], [0, 0, 0, -1.0*sin(\\theta)*cos(\\theta)]], [[0, 0, 0, 0], [0, 0, 0, 1.0/r], [0, 0, 0, 1.0*cos(\\theta)/sin(\\theta)], [0, 1.0/r, 1.0*cos(\\theta)/sin(\\theta), 0]]]"
      ]
     },
     "execution_count": 7,
     "metadata": {},
     "output_type": "execute_result"
    }
   ],
   "source": [
    "ch_polar = g_polar.Christoffel_symbols\n",
    "ch_spherical = g_spherical.Christoffel_symbols\n",
    "ch_sc = g_sc.Christoffel_symbols\n",
    "\n",
    "ch_sc.vals"
   ]
  },
  {
   "cell_type": "markdown",
   "metadata": {
    "Collapsed": "false"
   },
   "source": [
    "#### Riemann Tensor"
   ]
  },
  {
   "cell_type": "markdown",
   "metadata": {
    "Collapsed": "false"
   },
   "source": [
    "The Riemann curvature Tensor, $R^{\\sigma}_{\\alpha \\mu \\nu}$, is calculated as a 4 index GRTensor by the curvature function of a metric"
   ]
  },
  {
   "cell_type": "code",
   "execution_count": 8,
   "metadata": {
    "Collapsed": "false"
   },
   "outputs": [
    {
     "data": {
      "text/latex": [
       "$\\displaystyle \\left[\\begin{matrix}\\left[\\begin{matrix}0 & 0 & 0 & 0\\\\0 & 0 & 0 & 0\\\\0 & 0 & 0 & 0\\\\0 & 0 & 0 & 0\\end{matrix}\\right] & \\left[\\begin{matrix}0 & \\frac{1.0 m^{2}}{r^{4} \\left(\\frac{2 m}{r} - 1\\right)^{2}} + \\frac{2.0 m^{2} \\left(- \\frac{1.0 m}{r} + 0.5\\right)}{r^{4} \\left(- \\frac{2 m}{r} + 1\\right)^{2} \\left(\\frac{2 m}{r} - 1\\right)} - \\frac{2.0 m}{r^{3} \\left(\\frac{2 m}{r} - 1\\right)} & 0 & 0\\\\- \\frac{1.0 m^{2}}{r^{4} \\left(\\frac{2 m}{r} - 1\\right)^{2}} - \\frac{2.0 m^{2} \\left(- \\frac{1.0 m}{r} + 0.5\\right)}{r^{4} \\left(- \\frac{2 m}{r} + 1\\right)^{2} \\left(\\frac{2 m}{r} - 1\\right)} + \\frac{2.0 m}{r^{3} \\left(\\frac{2 m}{r} - 1\\right)} & 0 & 0 & 0\\\\0 & 0 & 0 & 0\\\\0 & 0 & 0 & 0\\end{matrix}\\right] & \\left[\\begin{matrix}0 & 0 & \\frac{2.0 m \\left(- \\frac{1.0 m}{r} + 0.5\\right)}{r \\left(\\frac{2 m}{r} - 1\\right)} & 0\\\\0 & 0 & 0 & 0\\\\- \\frac{2.0 m \\left(- \\frac{1.0 m}{r} + 0.5\\right)}{r \\left(\\frac{2 m}{r} - 1\\right)} & 0 & 0 & 0\\\\0 & 0 & 0 & 0\\end{matrix}\\right] & \\left[\\begin{matrix}0 & 0 & 0 & \\frac{2.0 m \\left(- \\frac{1.0 m}{r} + 0.5\\right) \\sin^{2}{\\left(\\theta \\right)}}{r \\left(\\frac{2 m}{r} - 1\\right)}\\\\0 & 0 & 0 & 0\\\\0 & 0 & 0 & 0\\\\- \\frac{2.0 m \\left(- \\frac{1.0 m}{r} + 0.5\\right) \\sin^{2}{\\left(\\theta \\right)}}{r \\left(\\frac{2 m}{r} - 1\\right)} & 0 & 0 & 0\\end{matrix}\\right]\\\\\\left[\\begin{matrix}0 & - \\frac{2.0 m^{2} \\left(- \\frac{1.0 m}{r} + 0.5\\right)}{r^{4} \\left(\\frac{2 m}{r} - 1\\right)} - \\frac{2.0 m^{2}}{r^{4}} + \\frac{4 m^{2} \\left(- \\frac{1.0 m}{r} + 0.5\\right)^{2}}{r^{4} \\left(- \\frac{2 m}{r} + 1\\right)^{2}} + \\frac{4 m \\left(- \\frac{1.0 m}{r} + 0.5\\right)}{r^{3}} & 0 & 0\\\\\\frac{2.0 m^{2} \\left(- \\frac{1.0 m}{r} + 0.5\\right)}{r^{4} \\left(\\frac{2 m}{r} - 1\\right)} + \\frac{2.0 m^{2}}{r^{4}} - \\frac{4 m^{2} \\left(- \\frac{1.0 m}{r} + 0.5\\right)^{2}}{r^{4} \\left(- \\frac{2 m}{r} + 1\\right)^{2}} - \\frac{4 m \\left(- \\frac{1.0 m}{r} + 0.5\\right)}{r^{3}} & 0 & 0 & 0\\\\0 & 0 & 0 & 0\\\\0 & 0 & 0 & 0\\end{matrix}\\right] & \\left[\\begin{matrix}0 & 0 & 0 & 0\\\\0 & 0 & 0 & 0\\\\0 & 0 & 0 & 0\\\\0 & 0 & 0 & 0\\end{matrix}\\right] & \\left[\\begin{matrix}0 & 0 & 0 & 0\\\\0 & 0 & - \\frac{2.0 m}{r} + \\frac{4 m \\left(- \\frac{1.0 m}{r} + 0.5\\right)^{2}}{r \\left(- \\frac{2 m}{r} + 1\\right)^{2}} & 0\\\\0 & \\frac{2.0 m}{r} - \\frac{4 m \\left(- \\frac{1.0 m}{r} + 0.5\\right)^{2}}{r \\left(- \\frac{2 m}{r} + 1\\right)^{2}} & 0 & 0\\\\0 & 0 & 0 & 0\\end{matrix}\\right] & \\left[\\begin{matrix}0 & 0 & 0 & 0\\\\0 & 0 & 0 & - \\frac{2.0 m \\sin^{2}{\\left(\\theta \\right)}}{r} + \\frac{4 m \\left(- \\frac{1.0 m}{r} + 0.5\\right)^{2} \\sin^{2}{\\left(\\theta \\right)}}{r \\left(- \\frac{2 m}{r} + 1\\right)^{2}}\\\\0 & 0 & 0 & 0\\\\0 & \\frac{2.0 m \\sin^{2}{\\left(\\theta \\right)}}{r} - \\frac{4 m \\left(- \\frac{1.0 m}{r} + 0.5\\right)^{2} \\sin^{2}{\\left(\\theta \\right)}}{r \\left(- \\frac{2 m}{r} + 1\\right)^{2}} & 0 & 0\\end{matrix}\\right]\\\\\\left[\\begin{matrix}0 & 0 & - \\frac{2.0 m \\left(- \\frac{1.0 m}{r} + 0.5\\right)}{r^{3}} & 0\\\\0 & 0 & 0 & 0\\\\\\frac{2.0 m \\left(- \\frac{1.0 m}{r} + 0.5\\right)}{r^{3}} & 0 & 0 & 0\\\\0 & 0 & 0 & 0\\end{matrix}\\right] & \\left[\\begin{matrix}0 & 0 & 0 & 0\\\\0 & 0 & \\frac{2.0 m \\left(- \\frac{1.0 m}{r} + 0.5\\right)}{r^{3} \\left(- \\frac{2 m}{r} + 1\\right)^{2}} & 0\\\\0 & - \\frac{2.0 m \\left(- \\frac{1.0 m}{r} + 0.5\\right)}{r^{3} \\left(- \\frac{2 m}{r} + 1\\right)^{2}} & 0 & 0\\\\0 & 0 & 0 & 0\\end{matrix}\\right] & \\left[\\begin{matrix}0 & 0 & 0 & 0\\\\0 & 0 & 0 & 0\\\\0 & 0 & 0 & 0\\\\0 & 0 & 0 & 0\\end{matrix}\\right] & \\left[\\begin{matrix}0 & 0 & 0 & 0\\\\0 & 0 & 0 & 0\\\\0 & 0 & 0 & - 2.0 \\left(- \\frac{1.0 m}{r} + 0.5\\right) \\sin^{2}{\\left(\\theta \\right)} + 1.0 \\sin^{2}{\\left(\\theta \\right)}\\\\0 & 0 & 2.0 \\left(- \\frac{1.0 m}{r} + 0.5\\right) \\sin^{2}{\\left(\\theta \\right)} - 1.0 \\sin^{2}{\\left(\\theta \\right)} & 0\\end{matrix}\\right]\\\\\\left[\\begin{matrix}0 & 0 & 0 & - \\frac{2.0 m \\left(- \\frac{1.0 m}{r} + 0.5\\right)}{r^{3}}\\\\0 & 0 & 0 & 0\\\\0 & 0 & 0 & 0\\\\\\frac{2.0 m \\left(- \\frac{1.0 m}{r} + 0.5\\right)}{r^{3}} & 0 & 0 & 0\\end{matrix}\\right] & \\left[\\begin{matrix}0 & 0 & 0 & 0\\\\0 & 0 & 0 & \\frac{2.0 m \\left(- \\frac{1.0 m}{r} + 0.5\\right)}{r^{3} \\left(- \\frac{2 m}{r} + 1\\right)^{2}}\\\\0 & 0 & 0 & 0\\\\0 & - \\frac{2.0 m \\left(- \\frac{1.0 m}{r} + 0.5\\right)}{r^{3} \\left(- \\frac{2 m}{r} + 1\\right)^{2}} & 0 & 0\\end{matrix}\\right] & \\left[\\begin{matrix}0 & 0 & 0 & 0\\\\0 & 0 & 0 & 0\\\\0 & 0 & 0 & - \\frac{2.0 m}{r}\\\\0 & 0 & \\frac{2.0 m}{r} & 0\\end{matrix}\\right] & \\left[\\begin{matrix}0 & 0 & 0 & 0\\\\0 & 0 & 0 & 0\\\\0 & 0 & 0 & 0\\\\0 & 0 & 0 & 0\\end{matrix}\\right]\\end{matrix}\\right]$"
      ],
      "text/plain": [
       "[[[[0, 0, 0, 0], [0, 0, 0, 0], [0, 0, 0, 0], [0, 0, 0, 0]], [[0, 1.0*m**2/(r**4*(2*m/r - 1)**2) + 2.0*m**2*(-1.0*m/r + 0.5)/(r**4*(-2*m/r + 1)**2*(2*m/r - 1)) - 2.0*m/(r**3*(2*m/r - 1)), 0, 0], [-1.0*m**2/(r**4*(2*m/r - 1)**2) - 2.0*m**2*(-1.0*m/r + 0.5)/(r**4*(-2*m/r + 1)**2*(2*m/r - 1)) + 2.0*m/(r**3*(2*m/r - 1)), 0, 0, 0], [0, 0, 0, 0], [0, 0, 0, 0]], [[0, 0, 2.0*m*(-1.0*m/r + 0.5)/(r*(2*m/r - 1)), 0], [0, 0, 0, 0], [-2.0*m*(-1.0*m/r + 0.5)/(r*(2*m/r - 1)), 0, 0, 0], [0, 0, 0, 0]], [[0, 0, 0, 2.0*m*(-1.0*m/r + 0.5)*sin(\\theta)**2/(r*(2*m/r - 1))], [0, 0, 0, 0], [0, 0, 0, 0], [-2.0*m*(-1.0*m/r + 0.5)*sin(\\theta)**2/(r*(2*m/r - 1)), 0, 0, 0]]], [[[0, -2.0*m**2*(-1.0*m/r + 0.5)/(r**4*(2*m/r - 1)) - 2.0*m**2/r**4 + 4*m**2*(-1.0*m/r + 0.5)**2/(r**4*(-2*m/r + 1)**2) + 4*m*(-1.0*m/r + 0.5)/r**3, 0, 0], [2.0*m**2*(-1.0*m/r + 0.5)/(r**4*(2*m/r - 1)) + 2.0*m**2/r**4 - 4*m**2*(-1.0*m/r + 0.5)**2/(r**4*(-2*m/r + 1)**2) - 4*m*(-1.0*m/r + 0.5)/r**3, 0, 0, 0], [0, 0, 0, 0], [0, 0, 0, 0]], [[0, 0, 0, 0], [0, 0, 0, 0], [0, 0, 0, 0], [0, 0, 0, 0]], [[0, 0, 0, 0], [0, 0, -2.0*m/r + 4*m*(-1.0*m/r + 0.5)**2/(r*(-2*m/r + 1)**2), 0], [0, 2.0*m/r - 4*m*(-1.0*m/r + 0.5)**2/(r*(-2*m/r + 1)**2), 0, 0], [0, 0, 0, 0]], [[0, 0, 0, 0], [0, 0, 0, -2.0*m*sin(\\theta)**2/r + 4*m*(-1.0*m/r + 0.5)**2*sin(\\theta)**2/(r*(-2*m/r + 1)**2)], [0, 0, 0, 0], [0, 2.0*m*sin(\\theta)**2/r - 4*m*(-1.0*m/r + 0.5)**2*sin(\\theta)**2/(r*(-2*m/r + 1)**2), 0, 0]]], [[[0, 0, -2.0*m*(-1.0*m/r + 0.5)/r**3, 0], [0, 0, 0, 0], [2.0*m*(-1.0*m/r + 0.5)/r**3, 0, 0, 0], [0, 0, 0, 0]], [[0, 0, 0, 0], [0, 0, 2.0*m*(-1.0*m/r + 0.5)/(r**3*(-2*m/r + 1)**2), 0], [0, -2.0*m*(-1.0*m/r + 0.5)/(r**3*(-2*m/r + 1)**2), 0, 0], [0, 0, 0, 0]], [[0, 0, 0, 0], [0, 0, 0, 0], [0, 0, 0, 0], [0, 0, 0, 0]], [[0, 0, 0, 0], [0, 0, 0, 0], [0, 0, 0, -2.0*(-1.0*m/r + 0.5)*sin(\\theta)**2 + 1.0*sin(\\theta)**2], [0, 0, 2.0*(-1.0*m/r + 0.5)*sin(\\theta)**2 - 1.0*sin(\\theta)**2, 0]]], [[[0, 0, 0, -2.0*m*(-1.0*m/r + 0.5)/r**3], [0, 0, 0, 0], [0, 0, 0, 0], [2.0*m*(-1.0*m/r + 0.5)/r**3, 0, 0, 0]], [[0, 0, 0, 0], [0, 0, 0, 2.0*m*(-1.0*m/r + 0.5)/(r**3*(-2*m/r + 1)**2)], [0, 0, 0, 0], [0, -2.0*m*(-1.0*m/r + 0.5)/(r**3*(-2*m/r + 1)**2), 0, 0]], [[0, 0, 0, 0], [0, 0, 0, 0], [0, 0, 0, -2.0*m/r], [0, 0, 2.0*m/r, 0]], [[0, 0, 0, 0], [0, 0, 0, 0], [0, 0, 0, 0], [0, 0, 0, 0]]]]"
      ]
     },
     "execution_count": 8,
     "metadata": {},
     "output_type": "execute_result"
    }
   ],
   "source": [
    "R4_polar = g_polar.curvature()\n",
    "R4_spherical = g_spherical.curvature()\n",
    "R4_sc = g_sc.curvature()\n",
    "\n",
    "# R4_sc.vals"
   ]
  },
  {
   "cell_type": "markdown",
   "metadata": {
    "Collapsed": "false"
   },
   "source": [
    "#### Ricci Tensor"
   ]
  },
  {
   "cell_type": "markdown",
   "metadata": {
    "Collapsed": "false"
   },
   "source": [
    "The Ricci tensor is taken by contracting the first and third indices of the metric."
   ]
  },
  {
   "cell_type": "code",
   "execution_count": 15,
   "metadata": {
    "Collapsed": "false"
   },
   "outputs": [],
   "source": [
    "R2_polar = g_polar.ricci_tensor()\n",
    "R2_spherical = g_spherical.ricci_tensor()\n",
    "R2_sc = g_sc.ricci_tensor()\n"
   ]
  },
  {
   "cell_type": "markdown",
   "metadata": {
    "Collapsed": "false"
   },
   "source": [
    "#### Ricci Scalar"
   ]
  },
  {
   "cell_type": "markdown",
   "metadata": {
    "Collapsed": "false"
   },
   "source": [
    "The Ricci scalar is taken by contracting the remaining two indices of the Ricci tensor"
   ]
  },
  {
   "cell_type": "code",
   "execution_count": 14,
   "metadata": {
    "Collapsed": "false"
   },
   "outputs": [],
   "source": [
    "R0_polar = g_polar.ricci_scalar()\n",
    "R0_spherical = g_spherical.ricci_scalar()\n",
    "R0_sc = g_sc.ricci_scalar()\n",
    "\n",
    "# R0_sc\n",
    "## Currently there is a known bug in the curvature calculations for the spherical metric, this should be nonzero, however it is zero."
   ]
  },
  {
   "cell_type": "markdown",
   "metadata": {
    "Collapsed": "false"
   },
   "source": [
    "#### Geodesic Equations"
   ]
  },
  {
   "cell_type": "markdown",
   "metadata": {
    "Collapsed": "false"
   },
   "source": [
    "The geodesic equations are taken from the following form:\n",
    "\n",
    "$$\\left(\\frac{\\partial x^{\\alpha}}{\\partial t}\\right)^{2} + \\Gamma^{\\alpha}_{\\beta \\gamma} \\frac{\\partial x^{\\beta}}{\\partial t} \\frac{\\partial x^{\\gamma}}{\\partial t} = 0$$"
   ]
  },
  {
   "cell_type": "code",
   "execution_count": null,
   "metadata": {
    "Collapsed": "false"
   },
   "outputs": [],
   "source": [
    "geo_polar = g_polar.geodesics()\n",
    "geo_spherical = g_spherical.geodesics()\n",
    "geo_sc = g_sc.geodesics()"
   ]
  },
  {
   "cell_type": "markdown",
   "metadata": {
    "Collapsed": "false"
   },
   "source": [
    "## GRTensors.GRTensor Examples"
   ]
  },
  {
   "cell_type": "markdown",
   "metadata": {
    "Collapsed": "false"
   },
   "source": [
    "GRTensors are meant to be a class/data type to handle a metric with indices and raising and lowering properties.\n",
    "\n",
    "Steps to Create a tensor:\n",
    "- Define symbols to be used for indices\n",
    "- Define symbols (if needed) to be used in tensor\n",
    "- Create sympy Array for tensor values\n",
    "- Create list of indices for tensor\n",
    "\n",
    "The code to create a tensor:\n",
    "\n",
    "```python\n",
    "L_mn = grt.GRTensor([LIST OF INDICES], sympy.Array())\n",
    "```\n",
    "\n",
    "The only functions of the tensor are to raise an index or lower an index. Currently there are no checks for whether an index is up or down, so it relies on trusting the user to be mindful of this. This will be updated in later versions of this code.\n",
    "\n",
    "For more details, see the documentation page or docstrings"
   ]
  },
  {
   "cell_type": "markdown",
   "metadata": {
    "Collapsed": "false"
   },
   "source": [
    "## Applications of GRTensors Functions (covariant derivative)"
   ]
  },
  {
   "cell_type": "code",
   "execution_count": 1,
   "metadata": {
    "Collapsed": "false"
   },
   "outputs": [
    {
     "name": "stdout",
     "output_type": "stream",
     "text": [
      "0\n"
     ]
    }
   ],
   "source": [
    "# Homework 3, Problem 5\n",
    "\n",
    "import GRTensors as grt\n",
    "import sympy\n",
    "\n",
    "x, y = sympy.symbols('x y')\n",
    "metric_vals = sympy.Matrix([[1,0],[0,x*x]])\n",
    "metric = grt.GRMetric([x,y],metric=metric_vals)\n",
    "\n",
    "a, b = sympy.symbols('a b')\n",
    "A = grt.GRTensor([a],sympy.Array([x*sympy.cos(2*y),-x*x*sympy.sin(2*y)]))\n",
    "A.raise_index(a,metric)\n",
    "Aab = grt.CovariantDerivative(b,[x,y],metric,A)\n",
    "print(sympy.tensorcontraction(Aab.vals,(0,1)))\n",
    "# This should be 0!"
   ]
  },
  {
   "cell_type": "markdown",
   "metadata": {
    "Collapsed": "false"
   },
   "source": [
    "## Notes"
   ]
  },
  {
   "cell_type": "markdown",
   "metadata": {
    "Collapsed": "false"
   },
   "source": [
    "- When duplicating the values of a tensor, be sure to use copy.deepcopy() or copy.copy() to avoid only copying the pointer.\n",
    "- This is going to be updated and is open to user contribution.\n",
    "- The project can be found at https://github.com/ConnorKenyon/GRTensors"
   ]
  },
  {
   "cell_type": "code",
   "execution_count": null,
   "metadata": {
    "Collapsed": "false"
   },
   "outputs": [],
   "source": []
  }
 ],
 "metadata": {
  "kernelspec": {
   "display_name": "Python 3",
   "language": "python",
   "name": "python3"
  },
  "language_info": {
   "codemirror_mode": {
    "name": "ipython",
    "version": 3
   },
   "file_extension": ".py",
   "mimetype": "text/x-python",
   "name": "python",
   "nbconvert_exporter": "python",
   "pygments_lexer": "ipython3",
   "version": "3.6.9"
  }
 },
 "nbformat": 4,
 "nbformat_minor": 4
}
